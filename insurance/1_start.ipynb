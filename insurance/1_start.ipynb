{
 "cells": [
  {
   "cell_type": "code",
   "execution_count": 46,
   "metadata": {
    "vscode": {
     "languageId": "r"
    }
   },
   "outputs": [
    {
     "data": {
      "text/plain": [
       "<locale>\n",
       "Numbers:  123,456.78\n",
       "Formats:  %AD / %AT\n",
       "Timezone: UTC\n",
       "Encoding: UTF-8\n",
       "<date_names>\n",
       "Days:   일요일 (일), 월요일 (월), 화요일 (화), 수요일 (수), 목요일 (목), 금요일\n",
       "        (금), 토요일 (토)\n",
       "Months: 1월, 2월, 3월, 4월, 5월, 6월, 7월, 8월, 9월, 10월, 11월, 12월\n",
       "AM/PM:  오전/오후"
      ]
     },
     "metadata": {},
     "output_type": "display_data"
    }
   ],
   "source": [
    "suppressPackageStartupMessages({\n",
    "  library(caret)\n",
    "  library(corrplot)\t\n",
    "  library(doParallel)\t\n",
    "  library(dplyr) \n",
    "  library(gbm) \n",
    "  library(pROC)\t\n",
    "  library(xgboost) \n",
    "  library(missForest) \n",
    "  library(caretEnsemble)\n",
    "  library(randomForest) \n",
    "  library(readr)\n",
    "})\n",
    "locale(\"ko\")\n",
    "\n",
    "wd <- \"~/Documents/10_Work/insurance\"\n",
    "setwd(wd)\n",
    "wd_data <- paste0(getwd(), \"/Data\")"
   ]
  },
  {
   "cell_type": "code",
   "execution_count": 47,
   "metadata": {
    "vscode": {
     "languageId": "r"
    }
   },
   "outputs": [
    {
     "data": {
      "text/html": [
       "4"
      ],
      "text/latex": [
       "4"
      ],
      "text/markdown": [
       "4"
      ],
      "text/plain": [
       "[1] 4"
      ]
     },
     "metadata": {},
     "output_type": "display_data"
    }
   ],
   "source": [
    "set.seed(13784)\n",
    "registerDoParallel(4, cores=4)\n",
    "getDoParWorkers()"
   ]
  },
  {
   "cell_type": "code",
   "execution_count": 48,
   "metadata": {},
   "outputs": [
    {
     "name": "stderr",
     "output_type": "stream",
     "text": [
      "\u001b[1mRows: \u001b[22m\u001b[34m119020\u001b[39m \u001b[1mColumns: \u001b[22m\u001b[34m38\u001b[39m\n",
      "\n",
      "\u001b[36m──\u001b[39m \u001b[1mColumn specification\u001b[22m \u001b[36m────────────────────────────────────────────────────────\u001b[39m\n",
      "\u001b[1mDelimiter:\u001b[22m \",\"\n",
      "\u001b[31mchr\u001b[39m (11): ACCI_OCCP_GRP1, ACCI_OCCP_GRP2, CHANG_FP_YN, CAUS_CODE, CAUS_CODE_...\n",
      "\u001b[32mdbl\u001b[39m (27): CUST_ID, POLY_NO, CNTT_RECP_SQNO, RECP_DATE, ORIG_RESN_DATE, RESN_...\n",
      "\n",
      "\n",
      "\u001b[36mℹ\u001b[39m Use `spec()` to retrieve the full column specification for this data.\n",
      "\u001b[36mℹ\u001b[39m Specify the column types or set `show_col_types = FALSE` to quiet this message.\n",
      "\n",
      "\u001b[1mRows: \u001b[22m\u001b[34m113010\u001b[39m \u001b[1mColumns: \u001b[22m\u001b[34m21\u001b[39m\n",
      "\n",
      "\u001b[36m──\u001b[39m \u001b[1mColumn specification\u001b[22m \u001b[36m────────────────────────────────────────────────────────\u001b[39m\n",
      "\u001b[1mDelimiter:\u001b[22m \",\"\n",
      "\u001b[31mchr\u001b[39m  (2): GOOD_CLSF_CDNM, CNTT_STAT_CODE\n",
      "\u001b[32mdbl\u001b[39m (19): POLY_NO, CUST_ID, CUST_ROLE, IRKD_CODE_DTAL, IRKD_CODE_ITEM, CNTT_...\n",
      "\n",
      "\n",
      "\u001b[36mℹ\u001b[39m Use `spec()` to retrieve the full column specification for this data.\n",
      "\u001b[36mℹ\u001b[39m Specify the column types or set `show_col_types = FALSE` to quiet this message.\n",
      "\n",
      "\u001b[1mRows: \u001b[22m\u001b[34m22400\u001b[39m \u001b[1mColumns: \u001b[22m\u001b[34m25\u001b[39m\n",
      "\n",
      "\u001b[36m──\u001b[39m \u001b[1mColumn specification\u001b[22m \u001b[36m────────────────────────────────────────────────────────\u001b[39m\n",
      "\u001b[1mDelimiter:\u001b[22m \",\"\n",
      "\u001b[31mchr\u001b[39m  (8): SIU_CUST_YN, FP_CAREER, CTPR, OCCP_GRP_1, OCCP_GRP_2, WEDD_YN, MAT...\n",
      "\u001b[32mdbl\u001b[39m (17): CUST_ID, DIVIDED_SET, SEX, AGE, RESI_COST, RESI_TYPE_CODE, CUST_RG...\n",
      "\n",
      "\n",
      "\u001b[36mℹ\u001b[39m Use `spec()` to retrieve the full column specification for this data.\n",
      "\u001b[36mℹ\u001b[39m Specify the column types or set `show_col_types = FALSE` to quiet this message.\n",
      "\n",
      "\u001b[1mRows: \u001b[22m\u001b[34m426\u001b[39m \u001b[1mColumns: \u001b[22m\u001b[34m3\u001b[39m\n",
      "\n",
      "\u001b[36m──\u001b[39m \u001b[1mColumn specification\u001b[22m \u001b[36m────────────────────────────────────────────────────────\u001b[39m\n",
      "\u001b[1mDelimiter:\u001b[22m \",\"\n",
      "\u001b[32mdbl\u001b[39m (3): CUST_ID, SUB_CUST_ID, FMLY_RELN_CODE\n",
      "\n",
      "\n",
      "\u001b[36mℹ\u001b[39m Use `spec()` to retrieve the full column specification for this data.\n",
      "\u001b[36mℹ\u001b[39m Specify the column types or set `show_col_types = FALSE` to quiet this message.\n",
      "\n",
      "\u001b[1mRows: \u001b[22m\u001b[34m31522\u001b[39m \u001b[1mColumns: \u001b[22m\u001b[34m7\u001b[39m\n",
      "\n",
      "\u001b[36m──\u001b[39m \u001b[1mColumn specification\u001b[22m \u001b[36m────────────────────────────────────────────────────────\u001b[39m\n",
      "\u001b[1mDelimiter:\u001b[22m \",\"\n",
      "\u001b[31mchr\u001b[39m (5): INCB_DVSN, ETRS_YM, FIRE_YM, BEFO_JOB, EDGB\n",
      "\u001b[32mdbl\u001b[39m (2): CLLT_FP_PRNO, BRCH_CODE\n",
      "\n",
      "\n",
      "\u001b[36mℹ\u001b[39m Use `spec()` to retrieve the full column specification for this data.\n",
      "\u001b[36mℹ\u001b[39m Specify the column types or set `show_col_types = FALSE` to quiet this message.\n",
      "\n"
     ]
    }
   ],
   "source": [
    "# Read data\n",
    "claim_data <- read_csv(paste0(wd_data, \"/claim_data.csv\"), \n",
    "                       locale = locale(date_names = \"ko\", \n",
    "                                       encoding = \"UTF-8\"))\n",
    "cntt_data <- read_csv(paste0(wd_data, \"/cntt_data.csv\"), \n",
    "                      locale = locale(date_names = \"ko\", \n",
    "                                      encoding = \"UTF-8\"))\n",
    "cust_data <- read_csv(paste0(wd_data, \"/cust_data.csv\"), \n",
    "                      locale = locale(date_names = \"ko\", \n",
    "                                      encoding = \"UTF-8\")) \n",
    "fam_data <- read_csv(paste0(wd_data, \"/fam_data.csv\"), \n",
    "                     locale = locale(date_names = \"ko\", \n",
    "                                     encoding = \"UTF-8\"))\n",
    "fp_data <- read_csv(paste0(wd_data, \"/fpinfo_data.csv\"), \n",
    "                    locale = locale(date_names = \"ko\", \n",
    "                                    encoding = \"UTF-8\"))"
   ]
  },
  {
   "cell_type": "code",
   "execution_count": 49,
   "metadata": {},
   "outputs": [],
   "source": [
    "save(list = c(\"claim_data\", \"cntt_data\", \"cust_data\",\n",
    "              \"fam_data\", \"fp_data\"), \n",
    "     file=\"1_start.RData\")\n",
    "rm(list=ls())"
   ]
  }
 ],
 "metadata": {
  "kernelspec": {
   "display_name": "R",
   "language": "R",
   "name": "ir"
  },
  "language_info": {
   "codemirror_mode": "r",
   "file_extension": ".r",
   "mimetype": "text/x-r-source",
   "name": "R",
   "pygments_lexer": "r",
   "version": "4.0.5"
  }
 },
 "nbformat": 4,
 "nbformat_minor": 2
}
