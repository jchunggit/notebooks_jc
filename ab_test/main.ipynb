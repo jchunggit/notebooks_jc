{
 "cells": [
  {
   "cell_type": "markdown",
   "metadata": {},
   "source": [
    "# ab test toy proj jai chung"
   ]
  },
  {
   "cell_type": "code",
   "execution_count": 1,
   "metadata": {},
   "outputs": [
    {
     "name": "stdout",
     "output_type": "stream",
     "text": [
      "importing Jupyter notebook from function.ipynb\n"
     ]
    }
   ],
   "source": [
    "import pandas as pd\n",
    "import numpy as np\n",
    "import matplotlib.pyplot as plt\n",
    "import seaborn as sns\n",
    "import warnings\n",
    "import scipy.stats as stats\n",
    "import statsmodels.stats.api as sms\n",
    "import import_ipynb\n",
    "from function import ab_t"
   ]
  },
  {
   "cell_type": "markdown",
   "metadata": {},
   "source": [
    "Initialize"
   ]
  },
  {
   "cell_type": "code",
   "execution_count": 2,
   "metadata": {},
   "outputs": [],
   "source": [
    "# read data\n",
    "df_raw = pd.read_csv(\"ab_data.csv\")\n",
    "df = df_raw"
   ]
  },
  {
   "cell_type": "code",
   "execution_count": 3,
   "metadata": {},
   "outputs": [
    {
     "name": "stdout",
     "output_type": "stream",
     "text": [
      "Data shape: \n",
      "(294478, 5)\n"
     ]
    }
   ],
   "source": [
    "# check data\n",
    "df.head(5)\n",
    "print(\"Data shape: \")\n",
    "print(df.shape)"
   ]
  },
  {
   "cell_type": "code",
   "execution_count": 4,
   "metadata": {},
   "outputs": [
    {
     "name": "stdout",
     "output_type": "stream",
     "text": [
      "Unique values: \n",
      "user_id         290584\n",
      "timestamp       294478\n",
      "group                2\n",
      "landing_page         2\n",
      "converted            2\n",
      "dtype: int64\n"
     ]
    }
   ],
   "source": [
    "print(\"Unique values: \")\n",
    "print(df.nunique())"
   ]
  },
  {
   "cell_type": "markdown",
   "metadata": {},
   "source": [
    "User_id variable does not match the shape - possibility of duplicates"
   ]
  },
  {
   "cell_type": "code",
   "execution_count": 5,
   "metadata": {},
   "outputs": [
    {
     "name": "stdout",
     "output_type": "stream",
     "text": [
      "NANs: \n",
      "user_id         0\n",
      "timestamp       0\n",
      "group           0\n",
      "landing_page    0\n",
      "converted       0\n",
      "dtype: int64\n"
     ]
    }
   ],
   "source": [
    "print(\"NANs: \")\n",
    "print(df.isnull().sum())"
   ]
  },
  {
   "cell_type": "code",
   "execution_count": 6,
   "metadata": {},
   "outputs": [
    {
     "name": "stdout",
     "output_type": "stream",
     "text": [
      "Data info: \n",
      "<class 'pandas.core.frame.DataFrame'>\n",
      "RangeIndex: 294478 entries, 0 to 294477\n",
      "Data columns (total 5 columns):\n",
      " #   Column        Non-Null Count   Dtype \n",
      "---  ------        --------------   ----- \n",
      " 0   user_id       294478 non-null  int64 \n",
      " 1   timestamp     294478 non-null  object\n",
      " 2   group         294478 non-null  object\n",
      " 3   landing_page  294478 non-null  object\n",
      " 4   converted     294478 non-null  int64 \n",
      "dtypes: int64(2), object(3)\n",
      "memory usage: 11.2+ MB\n",
      "None\n"
     ]
    }
   ],
   "source": [
    "print(\"Data info: \")\n",
    "print(df.info())"
   ]
  },
  {
   "cell_type": "code",
   "execution_count": 7,
   "metadata": {},
   "outputs": [
    {
     "name": "stdout",
     "output_type": "stream",
     "text": [
      "Check if abnormal values exist:\n",
      "              count           mean           std       min        25%  \\\n",
      "user_id    294478.0  787974.124733  91210.823776  630000.0  709032.25   \n",
      "converted  294478.0       0.119659      0.324563       0.0       0.00   \n",
      "\n",
      "                50%        75%       max  \n",
      "user_id    787933.5  866911.75  945999.0  \n",
      "converted       0.0       0.00       1.0  \n"
     ]
    }
   ],
   "source": [
    "print(\"Check if abnormal values exist:\")\n",
    "print(df.describe().T)"
   ]
  },
  {
   "cell_type": "code",
   "execution_count": 8,
   "metadata": {},
   "outputs": [
    {
     "data": {
      "text/plain": [
       "('2017-01-02 13:42:05.378582', '2017-01-24 13:41:54.460509')"
      ]
     },
     "execution_count": 8,
     "metadata": {},
     "output_type": "execute_result"
    }
   ],
   "source": [
    "# range of timestamp variable\n",
    "df.timestamp.min(), df.timestamp.max()"
   ]
  },
  {
   "cell_type": "code",
   "execution_count": 9,
   "metadata": {},
   "outputs": [
    {
     "data": {
      "text/plain": [
       "group      landing_page  converted\n",
       "treatment  new_page      0            128047\n",
       "control    old_page      0            127785\n",
       "                         1             17489\n",
       "treatment  new_page      1             17264\n",
       "           old_page      0              1715\n",
       "control    new_page      0              1694\n",
       "treatment  old_page      1               250\n",
       "control    new_page      1               234\n",
       "dtype: int64"
      ]
     },
     "execution_count": 9,
     "metadata": {},
     "output_type": "execute_result"
    }
   ],
   "source": [
    "# check distribution of group, landing_page, converted variables\n",
    "df[[\"group\", \"landing_page\", \"converted\"]].value_counts()"
   ]
  },
  {
   "cell_type": "code",
   "execution_count": 10,
   "metadata": {},
   "outputs": [
    {
     "data": {
      "text/html": [
       "<div>\n",
       "<style scoped>\n",
       "    .dataframe tbody tr th:only-of-type {\n",
       "        vertical-align: middle;\n",
       "    }\n",
       "\n",
       "    .dataframe tbody tr th {\n",
       "        vertical-align: top;\n",
       "    }\n",
       "\n",
       "    .dataframe thead th {\n",
       "        text-align: right;\n",
       "    }\n",
       "</style>\n",
       "<table border=\"1\" class=\"dataframe\">\n",
       "  <thead>\n",
       "    <tr style=\"text-align: right;\">\n",
       "      <th>landing_page</th>\n",
       "      <th>new_page</th>\n",
       "      <th>old_page</th>\n",
       "    </tr>\n",
       "    <tr>\n",
       "      <th>group</th>\n",
       "      <th></th>\n",
       "      <th></th>\n",
       "    </tr>\n",
       "  </thead>\n",
       "  <tbody>\n",
       "    <tr>\n",
       "      <th>control</th>\n",
       "      <td>1928</td>\n",
       "      <td>145274</td>\n",
       "    </tr>\n",
       "    <tr>\n",
       "      <th>treatment</th>\n",
       "      <td>145311</td>\n",
       "      <td>1965</td>\n",
       "    </tr>\n",
       "  </tbody>\n",
       "</table>\n",
       "</div>"
      ],
      "text/plain": [
       "landing_page  new_page  old_page\n",
       "group                           \n",
       "control           1928    145274\n",
       "treatment       145311      1965"
      ]
     },
     "execution_count": 10,
     "metadata": {},
     "output_type": "execute_result"
    }
   ],
   "source": [
    "# check with exception of 'converted'\n",
    "pd.crosstab(df['group'], df['landing_page'])"
   ]
  },
  {
   "cell_type": "code",
   "execution_count": 11,
   "metadata": {},
   "outputs": [
    {
     "data": {
      "text/html": [
       "<div>\n",
       "<style scoped>\n",
       "    .dataframe tbody tr th:only-of-type {\n",
       "        vertical-align: middle;\n",
       "    }\n",
       "\n",
       "    .dataframe tbody tr th {\n",
       "        vertical-align: top;\n",
       "    }\n",
       "\n",
       "    .dataframe thead th {\n",
       "        text-align: right;\n",
       "    }\n",
       "</style>\n",
       "<table border=\"1\" class=\"dataframe\">\n",
       "  <thead>\n",
       "    <tr style=\"text-align: right;\">\n",
       "      <th></th>\n",
       "      <th>user_id</th>\n",
       "      <th>timestamp</th>\n",
       "      <th>group</th>\n",
       "      <th>landing_page</th>\n",
       "      <th>converted</th>\n",
       "      <th>date</th>\n",
       "      <th>hour</th>\n",
       "      <th>day</th>\n",
       "    </tr>\n",
       "  </thead>\n",
       "  <tbody>\n",
       "    <tr>\n",
       "      <th>245040</th>\n",
       "      <td>637212</td>\n",
       "      <td>2017-01-02 17:40:36.776831</td>\n",
       "      <td>treatment</td>\n",
       "      <td>new_page</td>\n",
       "      <td>1</td>\n",
       "      <td>2017-01-02</td>\n",
       "      <td>17</td>\n",
       "      <td>Monday</td>\n",
       "    </tr>\n",
       "    <tr>\n",
       "      <th>27445</th>\n",
       "      <td>924138</td>\n",
       "      <td>2017-01-02 20:35:46.666785</td>\n",
       "      <td>treatment</td>\n",
       "      <td>new_page</td>\n",
       "      <td>0</td>\n",
       "      <td>2017-01-02</td>\n",
       "      <td>20</td>\n",
       "      <td>Monday</td>\n",
       "    </tr>\n",
       "    <tr>\n",
       "      <th>272484</th>\n",
       "      <td>659091</td>\n",
       "      <td>2017-01-02 21:52:21.925952</td>\n",
       "      <td>control</td>\n",
       "      <td>old_page</td>\n",
       "      <td>0</td>\n",
       "      <td>2017-01-02</td>\n",
       "      <td>21</td>\n",
       "      <td>Monday</td>\n",
       "    </tr>\n",
       "    <tr>\n",
       "      <th>27450</th>\n",
       "      <td>653194</td>\n",
       "      <td>2017-01-02 14:19:38.008234</td>\n",
       "      <td>treatment</td>\n",
       "      <td>new_page</td>\n",
       "      <td>0</td>\n",
       "      <td>2017-01-02</td>\n",
       "      <td>14</td>\n",
       "      <td>Monday</td>\n",
       "    </tr>\n",
       "    <tr>\n",
       "      <th>10854</th>\n",
       "      <td>810044</td>\n",
       "      <td>2017-01-02 14:45:04.402287</td>\n",
       "      <td>control</td>\n",
       "      <td>old_page</td>\n",
       "      <td>0</td>\n",
       "      <td>2017-01-02</td>\n",
       "      <td>14</td>\n",
       "      <td>Monday</td>\n",
       "    </tr>\n",
       "  </tbody>\n",
       "</table>\n",
       "</div>"
      ],
      "text/plain": [
       "        user_id                  timestamp      group landing_page  converted  \\\n",
       "245040   637212 2017-01-02 17:40:36.776831  treatment     new_page          1   \n",
       "27445    924138 2017-01-02 20:35:46.666785  treatment     new_page          0   \n",
       "272484   659091 2017-01-02 21:52:21.925952    control     old_page          0   \n",
       "27450    653194 2017-01-02 14:19:38.008234  treatment     new_page          0   \n",
       "10854    810044 2017-01-02 14:45:04.402287    control     old_page          0   \n",
       "\n",
       "              date  hour     day  \n",
       "245040  2017-01-02    17  Monday  \n",
       "27445   2017-01-02    20  Monday  \n",
       "272484  2017-01-02    21  Monday  \n",
       "27450   2017-01-02    14  Monday  \n",
       "10854   2017-01-02    14  Monday  "
      ]
     },
     "execution_count": 11,
     "metadata": {},
     "output_type": "execute_result"
    }
   ],
   "source": [
    "# timestamp variable wrangling\n",
    "df['timestamp'] = pd.to_datetime(df['timestamp'])\n",
    "df[\"date\"] = df['timestamp'].dt.strftime('%Y-%m-%d')\n",
    "df[\"hour\"] = df[\"timestamp\"].dt.hour\n",
    "df[\"day\"] = df[\"timestamp\"].dt.day_name()   \n",
    "df = df.sort_values(by='date', ascending=True)\n",
    "\n",
    "df.head(5)"
   ]
  },
  {
   "cell_type": "markdown",
   "metadata": {},
   "source": [
    "eda"
   ]
  },
  {
   "cell_type": "code",
   "execution_count": 12,
   "metadata": {},
   "outputs": [
    {
     "data": {
      "text/plain": [
       "Text(0.5, 0, 'Date')"
      ]
     },
     "execution_count": 12,
     "metadata": {},
     "output_type": "execute_result"
    },
    {
     "data": {
      "image/png": "[encoded data removed]",
      "text/plain": [
       "<Figure size 864x288 with 1 Axes>"
      ]
     },
     "metadata": {
      "needs_background": "light"
     },
     "output_type": "display_data"
    }
   ],
   "source": [
    "date = df.date.value_counts().to_frame().sort_index()\n",
    "\n",
    "plt.figure(figsize=(12,4))\n",
    "plt.xticks(rotation=90)\n",
    "plt.bar(date.index, date.date)\n",
    "plt.title('Daily counts', fontsize=16)\n",
    "plt.ylabel('Counts', fontsize=14)\n",
    "plt.xlabel('Date', fontsize=14)"
   ]
  },
  {
   "cell_type": "code",
   "execution_count": 13,
   "metadata": {},
   "outputs": [
    {
     "data": {
      "image/png": "[encoded data removed]",
      "text/plain": [
       "<Figure size 1152x288 with 1 Axes>"
      ]
     },
     "metadata": {
      "needs_background": "light"
     },
     "output_type": "display_data"
    }
   ],
   "source": [
    "# divided by treatment and control\n",
    "plt.figure(figsize=(16,4))\n",
    "\n",
    "df_c = df[df['group'] == 'control'].groupby('date').count()[\"group\"]\n",
    "df_t = df[df['group'] == 'treatment'].groupby('date').count()[\"group\"]\n",
    "alpha = 0.5\n",
    "\n",
    "p1 = plt.bar(df_c.index, df_t, color='b', alpha=alpha)\n",
    "p2 = plt.bar(df_c.index, df_c, color='r', alpha=alpha, bottom=df_t) \n",
    "\n",
    "plt.title('Daily count by group', fontsize=16)\n",
    "plt.ylabel('Counts', fontsize=14)\n",
    "plt.xlabel('Date', fontsize=14)\n",
    "plt.xticks(rotation=90)\n",
    "plt.legend((p1[0], p2[0]), ('treatment', 'control'), fontsize=12)\n",
    "\n",
    "plt.show()"
   ]
  },
  {
   "cell_type": "code",
   "execution_count": 14,
   "metadata": {},
   "outputs": [
    {
     "data": {
      "image/png": "[encoded data removed]",
      "text/plain": [
       "<Figure size 1008x1440 with 24 Axes>"
      ]
     },
     "metadata": {
      "needs_background": "light"
     },
     "output_type": "display_data"
    }
   ],
   "source": [
    "dt = df[['date','hour', \"user_id\"]].groupby(['date','hour']).count()\n",
    "dt = dt.reset_index().set_index('date')\n",
    "\n",
    "fig = plt.figure(figsize=(14,20))\n",
    "axes = fig.subplots(nrows=6, ncols=4)\n",
    "\n",
    "z = 1 \n",
    "\n",
    "for i in dt.index.unique().tolist():\n",
    "  plt.subplot(6, 4, z)\n",
    "  plt.title(i)\n",
    "  day_hour_user = dt[dt.index == i]\n",
    "  plt.bar(day_hour_user.hour, day_hour_user.user_id)\n",
    "  z = z + 1\n",
    "\n",
    "plt.show()"
   ]
  },
  {
   "cell_type": "markdown",
   "metadata": {},
   "source": [
    "It can be seen that data has been distributed around all hours for the days that have been observed. Normally there are dips on evenings (ie. sleep) - however, as this is a global dataset we can't really notice such phenomena."
   ]
  },
  {
   "cell_type": "markdown",
   "metadata": {},
   "source": [
    "Sampling"
   ]
  },
  {
   "cell_type": "code",
   "execution_count": 15,
   "metadata": {},
   "outputs": [
    {
     "name": "stdout",
     "output_type": "stream",
     "text": [
      "sample_size :  7155\n",
      "effect_size :  -0.04684\n"
     ]
    }
   ],
   "source": [
    "# obtain effective size\n",
    "effect_size = sms.proportion_effectsize(0.23, 0.25) \n",
    "\n",
    "# sample size\n",
    "sample_size = sms.NormalIndPower().solve_power(effect_size, power=0.8, alpha=0.05, ratio=1)\n",
    "\n",
    "print(\"sample_size : \", round(sample_size)) \n",
    "print(\"effect_size : \", effect_size.round(5))"
   ]
  },
  {
   "cell_type": "code",
   "execution_count": 16,
   "metadata": {},
   "outputs": [
    {
     "name": "stdout",
     "output_type": "stream",
     "text": [
      "3894  duplicated counts\n"
     ]
    }
   ],
   "source": [
    "# we check the repeating user_ids that we have identified from the beginning of the ipynb\n",
    "session_counts = df['user_id'].value_counts(ascending=False) \n",
    "print(session_counts[session_counts > 1].count(),\" duplicated counts\")"
   ]
  },
  {
   "cell_type": "code",
   "execution_count": 17,
   "metadata": {},
   "outputs": [],
   "source": [
    "# assign duplicated users\n",
    "dup_users = session_counts[session_counts > 1].count() \n",
    "dup_users_i = session_counts[session_counts > 1].index"
   ]
  },
  {
   "cell_type": "code",
   "execution_count": 18,
   "metadata": {},
   "outputs": [],
   "source": [
    "# drop duplicates\n",
    "df = df[~df['user_id'].isin(dup_users_i)] "
   ]
  },
  {
   "cell_type": "code",
   "execution_count": 19,
   "metadata": {},
   "outputs": [
    {
     "name": "stdout",
     "output_type": "stream",
     "text": [
      "shape :  (14400, 8)\n",
      "group rate :\n",
      "control      0.5\n",
      "treatment    0.5\n",
      "Name: group, dtype: float64\n"
     ]
    }
   ],
   "source": [
    "# sampling\n",
    "c_group = df[df['group'] == 'control'].sample(n=7200, random_state=42)\n",
    "t_group = df[df['group'] == 'treatment'].sample(n=7200, random_state=42)\n",
    "\n",
    "ab_test = pd.concat([c_group, t_group], axis=0)\n",
    "ab_test.reset_index(drop=True, inplace=True)\n",
    "\n",
    "# check sampling\n",
    "print(\"shape : \", ab_test.shape)\n",
    "print(\"group rate :\")\n",
    "print(ab_test.group.value_counts(normalize=True))"
   ]
  },
  {
   "cell_type": "code",
   "execution_count": 20,
   "metadata": {},
   "outputs": [
    {
     "data": {
      "text/html": [
       "<style type=\"text/css\">\n",
       "</style>\n",
       "<table id=\"T_a462f\">\n",
       "  <thead>\n",
       "    <tr>\n",
       "      <th class=\"blank level0\" >&nbsp;</th>\n",
       "      <th id=\"T_a462f_level0_col0\" class=\"col_heading level0 col0\" >conversion_rate</th>\n",
       "      <th id=\"T_a462f_level0_col1\" class=\"col_heading level0 col1\" >std</th>\n",
       "      <th id=\"T_a462f_level0_col2\" class=\"col_heading level0 col2\" >std_err</th>\n",
       "    </tr>\n",
       "    <tr>\n",
       "      <th class=\"index_name level0\" >group</th>\n",
       "      <th class=\"blank col0\" >&nbsp;</th>\n",
       "      <th class=\"blank col1\" >&nbsp;</th>\n",
       "      <th class=\"blank col2\" >&nbsp;</th>\n",
       "    </tr>\n",
       "  </thead>\n",
       "  <tbody>\n",
       "    <tr>\n",
       "      <th id=\"T_a462f_level0_row0\" class=\"row_heading level0 row0\" >control</th>\n",
       "      <td id=\"T_a462f_row0_col0\" class=\"data row0 col0\" >0.116</td>\n",
       "      <td id=\"T_a462f_row0_col1\" class=\"data row0 col1\" >0.321</td>\n",
       "      <td id=\"T_a462f_row0_col2\" class=\"data row0 col2\" >0.004</td>\n",
       "    </tr>\n",
       "    <tr>\n",
       "      <th id=\"T_a462f_level0_row1\" class=\"row_heading level0 row1\" >treatment</th>\n",
       "      <td id=\"T_a462f_row1_col0\" class=\"data row1 col0\" >0.118</td>\n",
       "      <td id=\"T_a462f_row1_col1\" class=\"data row1 col1\" >0.323</td>\n",
       "      <td id=\"T_a462f_row1_col2\" class=\"data row1 col2\" >0.004</td>\n",
       "    </tr>\n",
       "  </tbody>\n",
       "</table>\n"
      ],
      "text/plain": [
       "<pandas.io.formats.style.Styler at 0x7f9e79a04520>"
      ]
     },
     "execution_count": 20,
     "metadata": {},
     "output_type": "execute_result"
    }
   ],
   "source": [
    "c_rate = ab_test.groupby('group')['converted']\n",
    "\n",
    "std_p = lambda x: np.std(x, ddof=0)              # std\n",
    "se_p = lambda x: stats.sem(x, ddof=0)            # std_err\n",
    "\n",
    "conversion_rates = c_rate.agg([np.mean, std_p, se_p])\n",
    "conversion_rates.columns = ['conversion_rate', 'std', 'std_err']\n",
    "\n",
    "conversion_rates.style.format('{:.3f}')"
   ]
  },
  {
   "cell_type": "code",
   "execution_count": 24,
   "metadata": {},
   "outputs": [
    {
     "name": "stdout",
     "output_type": "stream",
     "text": [
      "# A/B Testing Hypothesis\n",
      "H0: A == B\n",
      "H1: A != B \n",
      "\n"
     ]
    },
    {
     "name": "stderr",
     "output_type": "stream",
     "text": [
      "/Users/jaichung/opt/miniconda3/lib/python3.9/site-packages/scipy/stats/_morestats.py:1761: UserWarning: p-value may not be accurate for N > 5000.\n",
      "  warnings.warn(\"p-value may not be accurate for N > 5000.\")\n"
     ]
    },
    {
     "data": {
      "text/html": [
       "<div>\n",
       "<style scoped>\n",
       "    .dataframe tbody tr th:only-of-type {\n",
       "        vertical-align: middle;\n",
       "    }\n",
       "\n",
       "    .dataframe tbody tr th {\n",
       "        vertical-align: top;\n",
       "    }\n",
       "\n",
       "    .dataframe thead th {\n",
       "        text-align: right;\n",
       "    }\n",
       "</style>\n",
       "<table border=\"1\" class=\"dataframe\">\n",
       "  <thead>\n",
       "    <tr style=\"text-align: right;\">\n",
       "      <th></th>\n",
       "      <th>Test Type</th>\n",
       "      <th>AB Hypothesis</th>\n",
       "      <th>p-value</th>\n",
       "      <th>Comment</th>\n",
       "    </tr>\n",
       "  </thead>\n",
       "  <tbody>\n",
       "    <tr>\n",
       "      <th>0</th>\n",
       "      <td>Non-Parametric</td>\n",
       "      <td>Cannot reject H0</td>\n",
       "      <td>0.717</td>\n",
       "      <td>A/B groups are similar</td>\n",
       "    </tr>\n",
       "  </tbody>\n",
       "</table>\n",
       "</div>"
      ],
      "text/plain": [
       "        Test Type     AB Hypothesis  p-value                 Comment\n",
       "0  Non-Parametric  Cannot reject H0    0.717  A/B groups are similar"
      ]
     },
     "execution_count": 24,
     "metadata": {},
     "output_type": "execute_result"
    }
   ],
   "source": [
    "ab_t(df = ab_test, g = \"group\", t = \"converted\")"
   ]
  }
 ],
 "metadata": {
  "interpreter": {
   "hash": "b0fa6594d8f4cbf19f97940f81e996739fb7646882a419484c72d19e05852a7e"
  },
  "kernelspec": {
   "display_name": "Python 3.9.13 64-bit",
   "language": "python",
   "name": "python3"
  },
  "language_info": {
   "codemirror_mode": {
    "name": "ipython",
    "version": 3
   },
   "file_extension": ".py",
   "mimetype": "text/x-python",
   "name": "python",
   "nbconvert_exporter": "python",
   "pygments_lexer": "ipython3",
   "version": "3.9.5"
  },
  "orig_nbformat": 4
 },
 "nbformat": 4,
 "nbformat_minor": 2
}
