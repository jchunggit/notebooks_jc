{
 "cells": [
  {
   "cell_type": "markdown",
   "metadata": {},
   "source": [
    "必要なモジュールロード、使用する関数は他のファイルからロードする"
   ]
  },
  {
   "cell_type": "code",
   "execution_count": 1,
   "metadata": {},
   "outputs": [],
   "source": [
    "import pandas as pd\n",
    "import numpy as np\n",
    "import seaborn as sns\n",
    "import matplotlib.pyplot as plt\n",
    "import scikit_posthocs as sp\n",
    "from fx import ab_t, shapiro_df, df_id"
   ]
  },
  {
   "cell_type": "markdown",
   "metadata": {},
   "source": [
    "データロード"
   ]
  },
  {
   "cell_type": "code",
   "execution_count": 2,
   "metadata": {},
   "outputs": [],
   "source": [
    "# read data\n",
    "user = pd.read_csv(\"login.csv\")\n",
    "exp = pd.read_csv(\"design.csv\")"
   ]
  },
  {
   "cell_type": "markdown",
   "metadata": {},
   "source": [
    "ロードの後、データの全体的な状態を確認する。データを確認するの理由は、間違ったデータ、あるいは抜けているデータがあるからである。"
   ]
  },
  {
   "cell_type": "code",
   "execution_count": 3,
   "metadata": {},
   "outputs": [
    {
     "name": "stdout",
     "output_type": "stream",
     "text": [
      "            count  unique                   top freq\n",
      "user_id    649466   12755             u00007475   67\n",
      "timestamp  649466  503587  2019-06-12T03:41:28Z    7\n",
      "<class 'pandas.core.frame.DataFrame'>\n",
      "RangeIndex: 649466 entries, 0 to 649465\n",
      "Data columns (total 2 columns):\n",
      " #   Column     Non-Null Count   Dtype \n",
      "---  ------     --------------   ----- \n",
      " 0   user_id    649466 non-null  object\n",
      " 1   timestamp  649466 non-null  object\n",
      "dtypes: object(2)\n",
      "memory usage: 9.9+ MB\n",
      "None\n"
     ]
    },
    {
     "data": {
      "text/html": [
       "<div>\n",
       "<style scoped>\n",
       "    .dataframe tbody tr th:only-of-type {\n",
       "        vertical-align: middle;\n",
       "    }\n",
       "\n",
       "    .dataframe tbody tr th {\n",
       "        vertical-align: top;\n",
       "    }\n",
       "\n",
       "    .dataframe thead th {\n",
       "        text-align: right;\n",
       "    }\n",
       "</style>\n",
       "<table border=\"1\" class=\"dataframe\">\n",
       "  <thead>\n",
       "    <tr style=\"text-align: right;\">\n",
       "      <th></th>\n",
       "      <th>user_id</th>\n",
       "      <th>timestamp</th>\n",
       "    </tr>\n",
       "  </thead>\n",
       "  <tbody>\n",
       "    <tr>\n",
       "      <th>0</th>\n",
       "      <td>u00003805</td>\n",
       "      <td>2019-06-03T00:00:00Z</td>\n",
       "    </tr>\n",
       "    <tr>\n",
       "      <th>1</th>\n",
       "      <td>u00007561</td>\n",
       "      <td>2019-06-03T00:00:01Z</td>\n",
       "    </tr>\n",
       "    <tr>\n",
       "      <th>2</th>\n",
       "      <td>u00004822</td>\n",
       "      <td>2019-06-03T00:00:04Z</td>\n",
       "    </tr>\n",
       "    <tr>\n",
       "      <th>3</th>\n",
       "      <td>u00005147</td>\n",
       "      <td>2019-06-03T00:00:05Z</td>\n",
       "    </tr>\n",
       "    <tr>\n",
       "      <th>4</th>\n",
       "      <td>u00006390</td>\n",
       "      <td>2019-06-03T00:00:08Z</td>\n",
       "    </tr>\n",
       "  </tbody>\n",
       "</table>\n",
       "</div>"
      ],
      "text/plain": [
       "     user_id             timestamp\n",
       "0  u00003805  2019-06-03T00:00:00Z\n",
       "1  u00007561  2019-06-03T00:00:01Z\n",
       "2  u00004822  2019-06-03T00:00:04Z\n",
       "3  u00005147  2019-06-03T00:00:05Z\n",
       "4  u00006390  2019-06-03T00:00:08Z"
      ]
     },
     "execution_count": 3,
     "metadata": {},
     "output_type": "execute_result"
    }
   ],
   "source": [
    "# see data\n",
    "print(user.describe().T)\n",
    "print(user.info())\n",
    "user.head()"
   ]
  },
  {
   "cell_type": "markdown",
   "metadata": {},
   "source": [
    "user_login.csvは、ユーザーのIDおよびユーザーのログイン時間データが含まれている。"
   ]
  },
  {
   "cell_type": "code",
   "execution_count": 4,
   "metadata": {},
   "outputs": [
    {
     "data": {
      "text/plain": [
       "<AxesSubplot:>"
      ]
     },
     "execution_count": 4,
     "metadata": {},
     "output_type": "execute_result"
    },
    {
     "data": {
      "image/png": "[encoded data removed]",
      "text/plain": [
       "<Figure size 432x288 with 1 Axes>"
      ]
     },
     "metadata": {
      "needs_background": "light"
     },
     "output_type": "display_data"
    }
   ],
   "source": [
    "sns.heatmap(user.isnull(), cbar=False)"
   ]
  },
  {
   "cell_type": "markdown",
   "metadata": {},
   "source": [
    "user_login.csvでは抜けているデータはない"
   ]
  },
  {
   "cell_type": "code",
   "execution_count": 5,
   "metadata": {},
   "outputs": [
    {
     "name": "stdout",
     "output_type": "stream",
     "text": [
      "            count  mean       std  min  25%  50%  75%  max\n",
      "push_cnt  11595.0   1.2  0.748364  0.0  1.0  1.0  2.0  2.0\n",
      "<class 'pandas.core.frame.DataFrame'>\n",
      "RangeIndex: 11595 entries, 0 to 11594\n",
      "Data columns (total 3 columns):\n",
      " #   Column    Non-Null Count  Dtype \n",
      "---  ------    --------------  ----- \n",
      " 0   user_id   11595 non-null  object\n",
      " 1   push_cnt  11595 non-null  int64 \n",
      " 2   msg_type  11595 non-null  object\n",
      "dtypes: int64(1), object(2)\n",
      "memory usage: 271.9+ KB\n"
     ]
    }
   ],
   "source": [
    "print(exp.describe().T)\n",
    "exp.info()"
   ]
  },
  {
   "cell_type": "code",
   "execution_count": 6,
   "metadata": {},
   "outputs": [
    {
     "data": {
      "text/html": [
       "<div>\n",
       "<style scoped>\n",
       "    .dataframe tbody tr th:only-of-type {\n",
       "        vertical-align: middle;\n",
       "    }\n",
       "\n",
       "    .dataframe tbody tr th {\n",
       "        vertical-align: top;\n",
       "    }\n",
       "\n",
       "    .dataframe thead th {\n",
       "        text-align: right;\n",
       "    }\n",
       "</style>\n",
       "<table border=\"1\" class=\"dataframe\">\n",
       "  <thead>\n",
       "    <tr style=\"text-align: right;\">\n",
       "      <th></th>\n",
       "      <th>user_id</th>\n",
       "      <th>push_cnt</th>\n",
       "      <th>msg_type</th>\n",
       "    </tr>\n",
       "  </thead>\n",
       "  <tbody>\n",
       "    <tr>\n",
       "      <th>0</th>\n",
       "      <td>u00000001</td>\n",
       "      <td>2</td>\n",
       "      <td>B</td>\n",
       "    </tr>\n",
       "    <tr>\n",
       "      <th>1</th>\n",
       "      <td>u00000002</td>\n",
       "      <td>2</td>\n",
       "      <td>B</td>\n",
       "    </tr>\n",
       "    <tr>\n",
       "      <th>2</th>\n",
       "      <td>u00000003</td>\n",
       "      <td>2</td>\n",
       "      <td>A</td>\n",
       "    </tr>\n",
       "    <tr>\n",
       "      <th>3</th>\n",
       "      <td>u00000004</td>\n",
       "      <td>0</td>\n",
       "      <td>None</td>\n",
       "    </tr>\n",
       "    <tr>\n",
       "      <th>4</th>\n",
       "      <td>u00000005</td>\n",
       "      <td>2</td>\n",
       "      <td>B</td>\n",
       "    </tr>\n",
       "    <tr>\n",
       "      <th>5</th>\n",
       "      <td>u00000006</td>\n",
       "      <td>1</td>\n",
       "      <td>B</td>\n",
       "    </tr>\n",
       "    <tr>\n",
       "      <th>6</th>\n",
       "      <td>u00000007</td>\n",
       "      <td>0</td>\n",
       "      <td>None</td>\n",
       "    </tr>\n",
       "    <tr>\n",
       "      <th>7</th>\n",
       "      <td>u00000008</td>\n",
       "      <td>1</td>\n",
       "      <td>A</td>\n",
       "    </tr>\n",
       "    <tr>\n",
       "      <th>8</th>\n",
       "      <td>u00000009</td>\n",
       "      <td>2</td>\n",
       "      <td>B</td>\n",
       "    </tr>\n",
       "    <tr>\n",
       "      <th>9</th>\n",
       "      <td>u00000010</td>\n",
       "      <td>0</td>\n",
       "      <td>None</td>\n",
       "    </tr>\n",
       "  </tbody>\n",
       "</table>\n",
       "</div>"
      ],
      "text/plain": [
       "     user_id  push_cnt msg_type\n",
       "0  u00000001         2        B\n",
       "1  u00000002         2        B\n",
       "2  u00000003         2        A\n",
       "3  u00000004         0     None\n",
       "4  u00000005         2        B\n",
       "5  u00000006         1        B\n",
       "6  u00000007         0     None\n",
       "7  u00000008         1        A\n",
       "8  u00000009         2        B\n",
       "9  u00000010         0     None"
      ]
     },
     "execution_count": 6,
     "metadata": {},
     "output_type": "execute_result"
    }
   ],
   "source": [
    "exp.head(10)"
   ]
  },
  {
   "cell_type": "markdown",
   "metadata": {},
   "source": [
    "experimental_design.csvでは、ユーザーによるメッセージやプッシュ情報がある。だが、user_login.csvではユーザーの数（１２７５５）がexperimental_design.csv（１１５９５）よりほぼ１０００件多く、併合（Join)の直後に抜けているデータが予想される。"
   ]
  },
  {
   "cell_type": "markdown",
   "metadata": {},
   "source": [
    "データの最初と最後を確認する。"
   ]
  },
  {
   "cell_type": "code",
   "execution_count": 7,
   "metadata": {},
   "outputs": [
    {
     "data": {
      "text/plain": [
       "('2019-06-03T00:00:00Z', '2019-06-17T23:59:27Z')"
      ]
     },
     "execution_count": 7,
     "metadata": {},
     "output_type": "execute_result"
    }
   ],
   "source": [
    "# range of timestamp variable\n",
    "user.timestamp.min(), user.timestamp.max()"
   ]
  },
  {
   "cell_type": "markdown",
   "metadata": {},
   "source": [
    "experimental_design.csvはuser_login.csvと併合する。併合する理由は、各ユーザーごとにログイン時間だけでなくメッセージとプッシュの情報を結び付けないといけないためである。"
   ]
  },
  {
   "cell_type": "code",
   "execution_count": 8,
   "metadata": {},
   "outputs": [
    {
     "data": {
      "text/html": [
       "<div>\n",
       "<style scoped>\n",
       "    .dataframe tbody tr th:only-of-type {\n",
       "        vertical-align: middle;\n",
       "    }\n",
       "\n",
       "    .dataframe tbody tr th {\n",
       "        vertical-align: top;\n",
       "    }\n",
       "\n",
       "    .dataframe thead th {\n",
       "        text-align: right;\n",
       "    }\n",
       "</style>\n",
       "<table border=\"1\" class=\"dataframe\">\n",
       "  <thead>\n",
       "    <tr style=\"text-align: right;\">\n",
       "      <th></th>\n",
       "      <th>user_id</th>\n",
       "      <th>timestamp</th>\n",
       "      <th>push_cnt</th>\n",
       "      <th>msg_type</th>\n",
       "    </tr>\n",
       "  </thead>\n",
       "  <tbody>\n",
       "    <tr>\n",
       "      <th>0</th>\n",
       "      <td>u00003805</td>\n",
       "      <td>2019-06-03T00:00:00Z</td>\n",
       "      <td>2.0</td>\n",
       "      <td>A</td>\n",
       "    </tr>\n",
       "    <tr>\n",
       "      <th>1</th>\n",
       "      <td>u00007561</td>\n",
       "      <td>2019-06-03T00:00:01Z</td>\n",
       "      <td>1.0</td>\n",
       "      <td>B</td>\n",
       "    </tr>\n",
       "    <tr>\n",
       "      <th>2</th>\n",
       "      <td>u00004822</td>\n",
       "      <td>2019-06-03T00:00:04Z</td>\n",
       "      <td>2.0</td>\n",
       "      <td>B</td>\n",
       "    </tr>\n",
       "    <tr>\n",
       "      <th>3</th>\n",
       "      <td>u00005147</td>\n",
       "      <td>2019-06-03T00:00:05Z</td>\n",
       "      <td>1.0</td>\n",
       "      <td>B</td>\n",
       "    </tr>\n",
       "    <tr>\n",
       "      <th>4</th>\n",
       "      <td>u00006390</td>\n",
       "      <td>2019-06-03T00:00:08Z</td>\n",
       "      <td>1.0</td>\n",
       "      <td>A</td>\n",
       "    </tr>\n",
       "    <tr>\n",
       "      <th>...</th>\n",
       "      <td>...</td>\n",
       "      <td>...</td>\n",
       "      <td>...</td>\n",
       "      <td>...</td>\n",
       "    </tr>\n",
       "    <tr>\n",
       "      <th>649461</th>\n",
       "      <td>u00015164</td>\n",
       "      <td>2019-06-17T23:56:00Z</td>\n",
       "      <td>NaN</td>\n",
       "      <td>NaN</td>\n",
       "    </tr>\n",
       "    <tr>\n",
       "      <th>649462</th>\n",
       "      <td>u00021954</td>\n",
       "      <td>2019-06-17T23:56:38Z</td>\n",
       "      <td>NaN</td>\n",
       "      <td>NaN</td>\n",
       "    </tr>\n",
       "    <tr>\n",
       "      <th>649463</th>\n",
       "      <td>u00024042</td>\n",
       "      <td>2019-06-17T23:56:45Z</td>\n",
       "      <td>NaN</td>\n",
       "      <td>NaN</td>\n",
       "    </tr>\n",
       "    <tr>\n",
       "      <th>649464</th>\n",
       "      <td>u00020050</td>\n",
       "      <td>2019-06-17T23:56:47Z</td>\n",
       "      <td>NaN</td>\n",
       "      <td>NaN</td>\n",
       "    </tr>\n",
       "    <tr>\n",
       "      <th>649465</th>\n",
       "      <td>u00013720</td>\n",
       "      <td>2019-06-17T23:59:27Z</td>\n",
       "      <td>NaN</td>\n",
       "      <td>NaN</td>\n",
       "    </tr>\n",
       "  </tbody>\n",
       "</table>\n",
       "<p>649466 rows × 4 columns</p>\n",
       "</div>"
      ],
      "text/plain": [
       "          user_id             timestamp  push_cnt msg_type\n",
       "0       u00003805  2019-06-03T00:00:00Z       2.0        A\n",
       "1       u00007561  2019-06-03T00:00:01Z       1.0        B\n",
       "2       u00004822  2019-06-03T00:00:04Z       2.0        B\n",
       "3       u00005147  2019-06-03T00:00:05Z       1.0        B\n",
       "4       u00006390  2019-06-03T00:00:08Z       1.0        A\n",
       "...           ...                   ...       ...      ...\n",
       "649461  u00015164  2019-06-17T23:56:00Z       NaN      NaN\n",
       "649462  u00021954  2019-06-17T23:56:38Z       NaN      NaN\n",
       "649463  u00024042  2019-06-17T23:56:45Z       NaN      NaN\n",
       "649464  u00020050  2019-06-17T23:56:47Z       NaN      NaN\n",
       "649465  u00013720  2019-06-17T23:59:27Z       NaN      NaN\n",
       "\n",
       "[649466 rows x 4 columns]"
      ]
     },
     "execution_count": 8,
     "metadata": {},
     "output_type": "execute_result"
    }
   ],
   "source": [
    "usr_exp = user.merge(exp, how = 'left', on = 'user_id')\n",
    "usr_exp"
   ]
  },
  {
   "cell_type": "code",
   "execution_count": 9,
   "metadata": {},
   "outputs": [
    {
     "data": {
      "text/plain": [
       "<AxesSubplot:>"
      ]
     },
     "execution_count": 9,
     "metadata": {},
     "output_type": "execute_result"
    },
    {
     "data": {
      "image/png": "[encoded data removed]",
      "text/plain": [
       "<Figure size 432x288 with 1 Axes>"
      ]
     },
     "metadata": {
      "needs_background": "light"
     },
     "output_type": "display_data"
    }
   ],
   "source": [
    "sns.heatmap(usr_exp.isnull(), cbar=False)"
   ]
  },
  {
   "cell_type": "markdown",
   "metadata": {},
   "source": [
    "上記のグラフの黄色の線は抜けているデータを示す。"
   ]
  },
  {
   "cell_type": "code",
   "execution_count": 10,
   "metadata": {},
   "outputs": [
    {
     "data": {
      "text/plain": [
       "user_id          0\n",
       "timestamp        0\n",
       "push_cnt     32001\n",
       "msg_type     32001\n",
       "dtype: int64"
      ]
     },
     "execution_count": 10,
     "metadata": {},
     "output_type": "execute_result"
    }
   ],
   "source": [
    "usr_exp.isnull().sum()"
   ]
  },
  {
   "cell_type": "markdown",
   "metadata": {},
   "source": [
    "抜けているデータが約３２０００列がある。このような場合に、代入法を適用したり全体のデータから除外する方法がある。push_cntとmsg_type変数以外に他の変数がない理由と、上記のデータが全体の５％のデータを占めるが、分析の簡素化のために抜けているデータを除去する方法で行う。"
   ]
  },
  {
   "cell_type": "code",
   "execution_count": 11,
   "metadata": {},
   "outputs": [],
   "source": [
    "## filtering\n",
    "# remove missing values\n",
    "usr_exp = usr_exp.dropna()\n",
    "# check if any rows are after 2019-06-17 and before 2019-06-03\n",
    "usr_exp = usr_exp[(usr_exp['timestamp']<'2019-06-17') & (usr_exp['timestamp'] > '2019-06-02')]"
   ]
  },
  {
   "cell_type": "markdown",
   "metadata": {},
   "source": [
    "抜けているデータを除去する以外にも、6/10 ~ 6/16の期間の間にログインの回数が増加したかを確認するためには、6/10から７日以前(6/3 ~ 6/9)のデータに制限する必要がある。"
   ]
  },
  {
   "cell_type": "code",
   "execution_count": 12,
   "metadata": {},
   "outputs": [
    {
     "data": {
      "text/plain": [
       "<AxesSubplot:>"
      ]
     },
     "execution_count": 12,
     "metadata": {},
     "output_type": "execute_result"
    },
    {
     "data": {
      "image/png": "[encoded data removed]",
      "text/plain": [
       "<Figure size 432x288 with 1 Axes>"
      ]
     },
     "metadata": {
      "needs_background": "light"
     },
     "output_type": "display_data"
    }
   ],
   "source": [
    "sns.heatmap(usr_exp.isnull(), cbar=False)"
   ]
  },
  {
   "cell_type": "markdown",
   "metadata": {},
   "source": [
    "これで抜けているデータはない。次のステップに進める。"
   ]
  },
  {
   "cell_type": "markdown",
   "metadata": {},
   "source": [
    "分析のためにデータの行を変換するあるいは新しい行を作ったりする。例えば、timestamp変数は施策の以前と以後に簡単に分けるためにバイナリ変数にする。なお、新しい施策は06/10から施行されたために06/10前のすべての行のpush_cntを0に変換してmsg_typeをNoneに変換する。"
   ]
  },
  {
   "cell_type": "code",
   "execution_count": 13,
   "metadata": {},
   "outputs": [],
   "source": [
    "usr_exp = usr_exp.assign(push_cnt = usr_exp['push_cnt'].astype(np.int64))\n",
    "usr_exp = usr_exp.assign(change = np.where(usr_exp['timestamp'] > '2019-06-10', \\\n",
    "    'after', 'before'))\n",
    "usr_exp = usr_exp.assign(push_cnt = np.where(usr_exp['timestamp'] < '2019-06-10', \\\n",
    "    0, usr_exp['push_cnt']))\n",
    "usr_exp = usr_exp.assign(msg_type = np.where(usr_exp['timestamp'] < '2019-06-10', \\\n",
    "    'None', usr_exp['msg_type']))\n",
    "usr_exp = usr_exp.assign(type = usr_exp['push_cnt'].astype(str) + \"/\" + \\\n",
    "    usr_exp[\"msg_type\"] + \"/\" + usr_exp[\"change\"])"
   ]
  },
  {
   "cell_type": "markdown",
   "metadata": {},
   "source": [
    "日付も別に分けてみる。"
   ]
  },
  {
   "cell_type": "code",
   "execution_count": 14,
   "metadata": {},
   "outputs": [
    {
     "data": {
      "text/html": [
       "<div>\n",
       "<style scoped>\n",
       "    .dataframe tbody tr th:only-of-type {\n",
       "        vertical-align: middle;\n",
       "    }\n",
       "\n",
       "    .dataframe tbody tr th {\n",
       "        vertical-align: top;\n",
       "    }\n",
       "\n",
       "    .dataframe thead th {\n",
       "        text-align: right;\n",
       "    }\n",
       "</style>\n",
       "<table border=\"1\" class=\"dataframe\">\n",
       "  <thead>\n",
       "    <tr style=\"text-align: right;\">\n",
       "      <th></th>\n",
       "      <th>user_id</th>\n",
       "      <th>timestamp</th>\n",
       "      <th>push_cnt</th>\n",
       "      <th>msg_type</th>\n",
       "      <th>change</th>\n",
       "      <th>type</th>\n",
       "      <th>date</th>\n",
       "      <th>hour</th>\n",
       "      <th>day</th>\n",
       "    </tr>\n",
       "  </thead>\n",
       "  <tbody>\n",
       "    <tr>\n",
       "      <th>0</th>\n",
       "      <td>u00003805</td>\n",
       "      <td>2019-06-03T00:00:00Z</td>\n",
       "      <td>0</td>\n",
       "      <td>None</td>\n",
       "      <td>before</td>\n",
       "      <td>0/None/before</td>\n",
       "      <td>2019-06-03</td>\n",
       "      <td>0</td>\n",
       "      <td>Monday</td>\n",
       "    </tr>\n",
       "    <tr>\n",
       "      <th>1</th>\n",
       "      <td>u00007561</td>\n",
       "      <td>2019-06-03T00:00:01Z</td>\n",
       "      <td>0</td>\n",
       "      <td>None</td>\n",
       "      <td>before</td>\n",
       "      <td>0/None/before</td>\n",
       "      <td>2019-06-03</td>\n",
       "      <td>0</td>\n",
       "      <td>Monday</td>\n",
       "    </tr>\n",
       "    <tr>\n",
       "      <th>2</th>\n",
       "      <td>u00004822</td>\n",
       "      <td>2019-06-03T00:00:04Z</td>\n",
       "      <td>0</td>\n",
       "      <td>None</td>\n",
       "      <td>before</td>\n",
       "      <td>0/None/before</td>\n",
       "      <td>2019-06-03</td>\n",
       "      <td>0</td>\n",
       "      <td>Monday</td>\n",
       "    </tr>\n",
       "    <tr>\n",
       "      <th>3</th>\n",
       "      <td>u00005147</td>\n",
       "      <td>2019-06-03T00:00:05Z</td>\n",
       "      <td>0</td>\n",
       "      <td>None</td>\n",
       "      <td>before</td>\n",
       "      <td>0/None/before</td>\n",
       "      <td>2019-06-03</td>\n",
       "      <td>0</td>\n",
       "      <td>Monday</td>\n",
       "    </tr>\n",
       "    <tr>\n",
       "      <th>4</th>\n",
       "      <td>u00006390</td>\n",
       "      <td>2019-06-03T00:00:08Z</td>\n",
       "      <td>0</td>\n",
       "      <td>None</td>\n",
       "      <td>before</td>\n",
       "      <td>0/None/before</td>\n",
       "      <td>2019-06-03</td>\n",
       "      <td>0</td>\n",
       "      <td>Monday</td>\n",
       "    </tr>\n",
       "    <tr>\n",
       "      <th>...</th>\n",
       "      <td>...</td>\n",
       "      <td>...</td>\n",
       "      <td>...</td>\n",
       "      <td>...</td>\n",
       "      <td>...</td>\n",
       "      <td>...</td>\n",
       "      <td>...</td>\n",
       "      <td>...</td>\n",
       "      <td>...</td>\n",
       "    </tr>\n",
       "    <tr>\n",
       "      <th>647362</th>\n",
       "      <td>u00002056</td>\n",
       "      <td>2019-06-16T23:59:54Z</td>\n",
       "      <td>2</td>\n",
       "      <td>B</td>\n",
       "      <td>after</td>\n",
       "      <td>2/B/after</td>\n",
       "      <td>2019-06-16</td>\n",
       "      <td>23</td>\n",
       "      <td>Sunday</td>\n",
       "    </tr>\n",
       "    <tr>\n",
       "      <th>647363</th>\n",
       "      <td>u00001576</td>\n",
       "      <td>2019-06-16T23:59:55Z</td>\n",
       "      <td>0</td>\n",
       "      <td>None</td>\n",
       "      <td>after</td>\n",
       "      <td>0/None/after</td>\n",
       "      <td>2019-06-16</td>\n",
       "      <td>23</td>\n",
       "      <td>Sunday</td>\n",
       "    </tr>\n",
       "    <tr>\n",
       "      <th>647364</th>\n",
       "      <td>u00002597</td>\n",
       "      <td>2019-06-16T23:59:55Z</td>\n",
       "      <td>2</td>\n",
       "      <td>B</td>\n",
       "      <td>after</td>\n",
       "      <td>2/B/after</td>\n",
       "      <td>2019-06-16</td>\n",
       "      <td>23</td>\n",
       "      <td>Sunday</td>\n",
       "    </tr>\n",
       "    <tr>\n",
       "      <th>647365</th>\n",
       "      <td>u00003499</td>\n",
       "      <td>2019-06-16T23:59:56Z</td>\n",
       "      <td>2</td>\n",
       "      <td>B</td>\n",
       "      <td>after</td>\n",
       "      <td>2/B/after</td>\n",
       "      <td>2019-06-16</td>\n",
       "      <td>23</td>\n",
       "      <td>Sunday</td>\n",
       "    </tr>\n",
       "    <tr>\n",
       "      <th>647366</th>\n",
       "      <td>u00004990</td>\n",
       "      <td>2019-06-16T23:59:59Z</td>\n",
       "      <td>2</td>\n",
       "      <td>A</td>\n",
       "      <td>after</td>\n",
       "      <td>2/A/after</td>\n",
       "      <td>2019-06-16</td>\n",
       "      <td>23</td>\n",
       "      <td>Sunday</td>\n",
       "    </tr>\n",
       "  </tbody>\n",
       "</table>\n",
       "<p>617465 rows × 9 columns</p>\n",
       "</div>"
      ],
      "text/plain": [
       "          user_id             timestamp  push_cnt msg_type  change  \\\n",
       "0       u00003805  2019-06-03T00:00:00Z         0     None  before   \n",
       "1       u00007561  2019-06-03T00:00:01Z         0     None  before   \n",
       "2       u00004822  2019-06-03T00:00:04Z         0     None  before   \n",
       "3       u00005147  2019-06-03T00:00:05Z         0     None  before   \n",
       "4       u00006390  2019-06-03T00:00:08Z         0     None  before   \n",
       "...           ...                   ...       ...      ...     ...   \n",
       "647362  u00002056  2019-06-16T23:59:54Z         2        B   after   \n",
       "647363  u00001576  2019-06-16T23:59:55Z         0     None   after   \n",
       "647364  u00002597  2019-06-16T23:59:55Z         2        B   after   \n",
       "647365  u00003499  2019-06-16T23:59:56Z         2        B   after   \n",
       "647366  u00004990  2019-06-16T23:59:59Z         2        A   after   \n",
       "\n",
       "                 type       date  hour     day  \n",
       "0       0/None/before 2019-06-03     0  Monday  \n",
       "1       0/None/before 2019-06-03     0  Monday  \n",
       "2       0/None/before 2019-06-03     0  Monday  \n",
       "3       0/None/before 2019-06-03     0  Monday  \n",
       "4       0/None/before 2019-06-03     0  Monday  \n",
       "...               ...        ...   ...     ...  \n",
       "647362      2/B/after 2019-06-16    23  Sunday  \n",
       "647363   0/None/after 2019-06-16    23  Sunday  \n",
       "647364      2/B/after 2019-06-16    23  Sunday  \n",
       "647365      2/B/after 2019-06-16    23  Sunday  \n",
       "647366      2/A/after 2019-06-16    23  Sunday  \n",
       "\n",
       "[617465 rows x 9 columns]"
      ]
     },
     "execution_count": 14,
     "metadata": {},
     "output_type": "execute_result"
    }
   ],
   "source": [
    "# time column manipulation\n",
    "usr_exp = usr_exp.assign(date = pd.to_datetime(usr_exp['timestamp'].str[:10]))\n",
    "usr_exp = usr_exp.assign(hour = pd.to_datetime(usr_exp['timestamp'].str[11:19]).dt.hour)\n",
    "usr_exp = usr_exp.assign(day = pd.to_datetime(usr_exp['timestamp'].str[:10]).dt.day_name())\n",
    "\n",
    "date = usr_exp.date.value_counts().to_frame().sort_index()\n",
    "\n",
    "usr_exp"
   ]
  },
  {
   "cell_type": "markdown",
   "metadata": {},
   "source": [
    "上記のデータテーブル通りにデータ変換が終わった。上記データで比較的に簡単で精密な分析ができるようになる。"
   ]
  },
  {
   "cell_type": "markdown",
   "metadata": {},
   "source": [
    "データを視覚化したり、希望する関数に代入するのに比較的に容易である。これからデータのトレンドやパターンなど変数の間に関係性を詳しく調査するためにEDAを行う。"
   ]
  },
  {
   "cell_type": "code",
   "execution_count": 15,
   "metadata": {},
   "outputs": [
    {
     "data": {
      "image/png": "[encoded data removed]",
      "text/plain": [
       "<Figure size 1296x432 with 1 Axes>"
      ]
     },
     "metadata": {
      "needs_background": "light"
     },
     "output_type": "display_data"
    }
   ],
   "source": [
    "plt.figure(figsize=(18,6))\n",
    "\n",
    "plt.bar(date.index, date.date)\n",
    "plt.title('Daily counts', fontsize=16)\n",
    "plt.ylabel('Counts', fontsize=14)\n",
    "plt.xlabel('Date', fontsize=14)\n",
    "plt.xticks(date.index, fontsize=10, rotation=90)\n",
    "\n",
    "plt.show()"
   ]
  },
  {
   "cell_type": "markdown",
   "metadata": {},
   "source": [
    "一日カウントは大体同じだが、2019/06/10からカウントが上がる現象がある。その理由は2019/06/10から新しい施策が施行されたためと考えられる。"
   ]
  },
  {
   "cell_type": "code",
   "execution_count": 16,
   "metadata": {},
   "outputs": [
    {
     "data": {
      "image/png": "[encoded data removed]",
      "text/plain": [
       "<Figure size 1296x432 with 1 Axes>"
      ]
     },
     "metadata": {
      "needs_background": "light"
     },
     "output_type": "display_data"
    }
   ],
   "source": [
    "# divided by push count\n",
    "plt.figure(figsize=(18,6))\n",
    "\n",
    "df_0 = usr_exp[usr_exp['push_cnt'] == 0].groupby('date').count()[\"push_cnt\"]\n",
    "df_1 = usr_exp[usr_exp['push_cnt'] == 1].groupby('date').push_cnt.count().\\\n",
    "    reindex(usr_exp.date.unique()).fillna(0).astype(int).rename('count').reset_index()\n",
    "df_2 = usr_exp[usr_exp['push_cnt'] == 2].groupby('date').push_cnt.count().\\\n",
    "    reindex(usr_exp.date.unique()).fillna(0).astype(int).rename('count').reset_index()\n",
    "alpha = 0.5\n",
    "\n",
    "p0 = plt.bar(df_0.index, df_0, color='b', alpha=alpha)\n",
    "p1 = plt.bar(df_1['date'], df_1['count'], color='r', alpha=alpha, bottom=df_0)\n",
    "p2 = plt.bar(df_2['date'], df_2['count'], color='g', alpha=alpha, bottom=df_1.\\\n",
    "    reset_index()['count']+df_0.reset_index()['push_cnt'])\n",
    "\n",
    "plt.title('Daily count by push_cnt', fontsize=16)\n",
    "plt.xticks(df_0.index, fontsize=10, rotation=90)\n",
    "plt.ylabel('Counts', fontsize=14)\n",
    "plt.xlabel('Date', fontsize=14)\n",
    "plt.legend((p0[0], p1[0], p2[0]), ('0', '1', '2'), fontsize=12)\n",
    "\n",
    "plt.show()"
   ]
  },
  {
   "cell_type": "markdown",
   "metadata": {},
   "source": [
    "今度はプッシュのカウントを別に分ける。"
   ]
  },
  {
   "cell_type": "code",
   "execution_count": 17,
   "metadata": {},
   "outputs": [
    {
     "data": {
      "image/png": "[encoded data removed]",
      "text/plain": [
       "<Figure size 1440x720 with 14 Axes>"
      ]
     },
     "metadata": {
      "needs_background": "light"
     },
     "output_type": "display_data"
    }
   ],
   "source": [
    "# divided by day\n",
    "dt = usr_exp[['date','hour', \"user_id\"]].groupby(['date','hour']).count()\n",
    "dt = dt.reset_index().set_index('date')\n",
    "\n",
    "fig = plt.figure(figsize=(20,10))\n",
    "axes = fig.subplots(nrows=2, ncols=7, sharey=True)\n",
    "\n",
    "z = 1\n",
    "\n",
    "for i in dt.index.unique().tolist():\n",
    "  plt.subplot(2, 7, z)\n",
    "  plt.title(i)\n",
    "  plt.ylabel('Counts', fontsize=8)\n",
    "  plt.xlabel('Hour', fontsize=8)\n",
    "  day_hour_user = dt[dt.index == i]\n",
    "  plt.bar(day_hour_user.hour, day_hour_user.user_id)\n",
    "  z = z + 1\n",
    "\n",
    "plt.show()"
   ]
  },
  {
   "cell_type": "markdown",
   "metadata": {},
   "source": [
    "すべての時間帯で均等にユーザーが観測される。 2週目からは（新しい施策が施行される時点）比較的にすべての時間帯でログイン回数が第１週よりさらに多い。"
   ]
  },
  {
   "cell_type": "code",
   "execution_count": 18,
   "metadata": {},
   "outputs": [
    {
     "data": {
      "text/html": [
       "<div>\n",
       "<style scoped>\n",
       "    .dataframe tbody tr th:only-of-type {\n",
       "        vertical-align: middle;\n",
       "    }\n",
       "\n",
       "    .dataframe tbody tr th {\n",
       "        vertical-align: top;\n",
       "    }\n",
       "\n",
       "    .dataframe thead th {\n",
       "        text-align: right;\n",
       "    }\n",
       "</style>\n",
       "<table border=\"1\" class=\"dataframe\">\n",
       "  <thead>\n",
       "    <tr style=\"text-align: right;\">\n",
       "      <th></th>\n",
       "      <th>user_id</th>\n",
       "      <th>push_cnt</th>\n",
       "      <th>msg_type</th>\n",
       "      <th>change</th>\n",
       "      <th>type</th>\n",
       "      <th>mean</th>\n",
       "    </tr>\n",
       "  </thead>\n",
       "  <tbody>\n",
       "    <tr>\n",
       "      <th>0</th>\n",
       "      <td>u00000001</td>\n",
       "      <td>0</td>\n",
       "      <td>None</td>\n",
       "      <td>before</td>\n",
       "      <td>0/None/before</td>\n",
       "      <td>4.285714</td>\n",
       "    </tr>\n",
       "    <tr>\n",
       "      <th>1</th>\n",
       "      <td>u00000001</td>\n",
       "      <td>2</td>\n",
       "      <td>B</td>\n",
       "      <td>after</td>\n",
       "      <td>2/B/after</td>\n",
       "      <td>4.714286</td>\n",
       "    </tr>\n",
       "    <tr>\n",
       "      <th>2</th>\n",
       "      <td>u00000002</td>\n",
       "      <td>0</td>\n",
       "      <td>None</td>\n",
       "      <td>before</td>\n",
       "      <td>0/None/before</td>\n",
       "      <td>4.142857</td>\n",
       "    </tr>\n",
       "    <tr>\n",
       "      <th>3</th>\n",
       "      <td>u00000002</td>\n",
       "      <td>2</td>\n",
       "      <td>B</td>\n",
       "      <td>after</td>\n",
       "      <td>2/B/after</td>\n",
       "      <td>4.571429</td>\n",
       "    </tr>\n",
       "    <tr>\n",
       "      <th>4</th>\n",
       "      <td>u00000003</td>\n",
       "      <td>0</td>\n",
       "      <td>None</td>\n",
       "      <td>before</td>\n",
       "      <td>0/None/before</td>\n",
       "      <td>3.428571</td>\n",
       "    </tr>\n",
       "    <tr>\n",
       "      <th>...</th>\n",
       "      <td>...</td>\n",
       "      <td>...</td>\n",
       "      <td>...</td>\n",
       "      <td>...</td>\n",
       "      <td>...</td>\n",
       "      <td>...</td>\n",
       "    </tr>\n",
       "    <tr>\n",
       "      <th>23185</th>\n",
       "      <td>u00011593</td>\n",
       "      <td>1</td>\n",
       "      <td>A</td>\n",
       "      <td>after</td>\n",
       "      <td>1/A/after</td>\n",
       "      <td>4.857143</td>\n",
       "    </tr>\n",
       "    <tr>\n",
       "      <th>23186</th>\n",
       "      <td>u00011594</td>\n",
       "      <td>0</td>\n",
       "      <td>None</td>\n",
       "      <td>after</td>\n",
       "      <td>0/None/after</td>\n",
       "      <td>3.166667</td>\n",
       "    </tr>\n",
       "    <tr>\n",
       "      <th>23187</th>\n",
       "      <td>u00011594</td>\n",
       "      <td>0</td>\n",
       "      <td>None</td>\n",
       "      <td>before</td>\n",
       "      <td>0/None/before</td>\n",
       "      <td>2.571429</td>\n",
       "    </tr>\n",
       "    <tr>\n",
       "      <th>23188</th>\n",
       "      <td>u00011595</td>\n",
       "      <td>0</td>\n",
       "      <td>None</td>\n",
       "      <td>before</td>\n",
       "      <td>0/None/before</td>\n",
       "      <td>3.714286</td>\n",
       "    </tr>\n",
       "    <tr>\n",
       "      <th>23189</th>\n",
       "      <td>u00011595</td>\n",
       "      <td>1</td>\n",
       "      <td>B</td>\n",
       "      <td>after</td>\n",
       "      <td>1/B/after</td>\n",
       "      <td>4.000000</td>\n",
       "    </tr>\n",
       "  </tbody>\n",
       "</table>\n",
       "<p>23190 rows × 6 columns</p>\n",
       "</div>"
      ],
      "text/plain": [
       "         user_id  push_cnt msg_type  change           type      mean\n",
       "0      u00000001         0     None  before  0/None/before  4.285714\n",
       "1      u00000001         2        B   after      2/B/after  4.714286\n",
       "2      u00000002         0     None  before  0/None/before  4.142857\n",
       "3      u00000002         2        B   after      2/B/after  4.571429\n",
       "4      u00000003         0     None  before  0/None/before  3.428571\n",
       "...          ...       ...      ...     ...            ...       ...\n",
       "23185  u00011593         1        A   after      1/A/after  4.857143\n",
       "23186  u00011594         0     None   after   0/None/after  3.166667\n",
       "23187  u00011594         0     None  before  0/None/before  2.571429\n",
       "23188  u00011595         0     None  before  0/None/before  3.714286\n",
       "23189  u00011595         1        B   after      1/B/after  4.000000\n",
       "\n",
       "[23190 rows x 6 columns]"
      ]
     },
     "execution_count": 18,
     "metadata": {},
     "output_type": "execute_result"
    }
   ],
   "source": [
    "usr_exp_m = usr_exp.groupby(['user_id', 'push_cnt', 'msg_type', \\\n",
    "    'change', 'type', 'date']).\\\n",
    "    size().groupby(['user_id', 'push_cnt', 'msg_type', 'change', 'type']).mean().\\\n",
    "        rename('mean').reset_index()\n",
    "\n",
    "usr_exp_m"
   ]
  },
  {
   "cell_type": "code",
   "execution_count": 19,
   "metadata": {},
   "outputs": [
    {
     "data": {
      "image/png": "[encoded data removed]",
      "text/plain": [
       "<Figure size 720x432 with 1 Axes>"
      ]
     },
     "metadata": {
      "needs_background": "light"
     },
     "output_type": "display_data"
    }
   ],
   "source": [
    "data_to_plot = [usr_exp_m[usr_exp_m['change']=='before']['mean'], \\\n",
    "    usr_exp_m[usr_exp_m['change']=='after']['mean']]\n",
    "\n",
    "plt.figure(figsize=(10, 6))\n",
    "plt.boxplot(data_to_plot,patch_artist=True,labels=['Before','After'])\n",
    "plt.ylabel('Average view count of user(s)', fontsize=12)\n",
    "plt.title('Average view count by user (before/after)', fontsize = 14)\n",
    "plt.show()"
   ]
  },
  {
   "cell_type": "code",
   "execution_count": 20,
   "metadata": {},
   "outputs": [
    {
     "data": {
      "text/plain": [
       "Text(0.5, 1.0, 'Average view count by user (push message)')"
      ]
     },
     "execution_count": 20,
     "metadata": {},
     "output_type": "execute_result"
    },
    {
     "data": {
      "image/png": "[encoded data removed]",
      "text/plain": [
       "<Figure size 720x432 with 1 Axes>"
      ]
     },
     "metadata": {
      "needs_background": "light"
     },
     "output_type": "display_data"
    }
   ],
   "source": [
    "# prepare data\n",
    "data_to_plot = [usr_exp_m[(usr_exp_m['msg_type']=='None')&(usr_exp_m['change']=='before')]['mean'], \\\n",
    "    usr_exp_m[(usr_exp_m['msg_type']=='None')&(usr_exp_m['change']=='after')]['mean'],\\\n",
    "        usr_exp_m[(usr_exp_m['msg_type']=='A')&(usr_exp_m['change']=='after')]['mean'],\\\n",
    "            usr_exp_m[(usr_exp_m['msg_type']=='B')&(usr_exp_m['change']=='after')]['mean']]\n",
    "\n",
    "data_pos = [1, 1.6, 2.2, 2.8]\n",
    "\n",
    "# Positions defaults to range(1, N+1) where N is the number of boxplot to be drawn.\n",
    "# we will move them a little, to visually group them\n",
    "plt.figure(figsize=(10, 6))\n",
    "box = plt.boxplot(data_to_plot,\n",
    "                  positions=data_pos,\n",
    "                  labels=['None/before','None/after',\\\n",
    "                    'A',\\\n",
    "                      'B'],\n",
    "                        patch_artist=True)\n",
    "\n",
    "data_len = []\n",
    "medians = []\n",
    "for i in data_to_plot:\n",
    "     data_len.append(len(i))\n",
    "     medians.append(np.median(i))\n",
    "\n",
    "for tick, i in enumerate(data_pos):\n",
    "    plt.text(data_pos[tick], \n",
    "    medians[tick] + 0.03,\n",
    "    \"n = \" + str(data_len[tick]),\n",
    "    horizontalalignment='center',\n",
    "    size='small',\n",
    "    color='w',\n",
    "    weight='semibold')\n",
    "\n",
    "    plt.text(data_pos[tick], \n",
    "    2.4,\n",
    "    \"median = \" + str(round(medians[tick],2)),\n",
    "    horizontalalignment='center',\n",
    "    size='small',\n",
    "    color='b')\n",
    "\n",
    "plt.ylabel('Average view count of user(s)', fontsize=12)\n",
    "plt.title('Average view count by user (push message)', fontsize = 14)"
   ]
  },
  {
   "cell_type": "markdown",
   "metadata": {},
   "source": [
    "プッシュメッセージを別に分ける。プッシュメッセージ”A\"は”B\"より比較的に多い。外れ値も見られる（特にプッシュを受けっていない場合）。施策前のログイン回数が意外に高い理由はログイン回数が低いユーザー、回数の高いユーザーをすべて含んでいるためと予想される。"
   ]
  },
  {
   "cell_type": "code",
   "execution_count": 21,
   "metadata": {},
   "outputs": [
    {
     "data": {
      "text/plain": [
       "Text(0.5, 1.0, 'Average view count by user (type of message and #)')"
      ]
     },
     "execution_count": 21,
     "metadata": {},
     "output_type": "execute_result"
    },
    {
     "data": {
      "image/png": "[encoded data removed]",
      "text/plain": [
       "<Figure size 720x432 with 1 Axes>"
      ]
     },
     "metadata": {
      "needs_background": "light"
     },
     "output_type": "display_data"
    }
   ],
   "source": [
    "# prepare data\n",
    "data_to_plot = [usr_exp_m[usr_exp_m['type']=='0/None/before']['mean'], \\\n",
    "    usr_exp_m[usr_exp_m['type']=='0/None/after']['mean'],\\\n",
    "        usr_exp_m[usr_exp_m['type']=='1/A/after']['mean'],\\\n",
    "            usr_exp_m[usr_exp_m['type']=='1/B/after']['mean'],\\\n",
    "                usr_exp_m[usr_exp_m['type']=='2/A/after']['mean'],\\\n",
    "                    usr_exp_m[usr_exp_m['type']=='2/B/after']['mean']]\n",
    "\n",
    "data_pos = [1, 1.6, 2.6, 3.2, 4.2, 4.8]\n",
    "\n",
    "plt.figure(figsize=(10, 6))\n",
    "box = plt.boxplot(data_to_plot,\n",
    "                  positions = data_pos,\n",
    "                  labels=['None/before','None/after',\\\n",
    "                    '1/A',\\\n",
    "                        '1/B',\\\n",
    "                            '2/A', \\\n",
    "                                '2/B'],\n",
    "                                patch_artist=True)\n",
    "\n",
    "data_len = []\n",
    "medians = []\n",
    "for i in data_to_plot:\n",
    "     data_len.append(len(i))\n",
    "     medians.append(np.median(i))\n",
    "\n",
    "for tick, i in enumerate(data_pos):\n",
    "    plt.text(data_pos[tick], \n",
    "    medians[tick] + 0.03,\n",
    "    \"n = \" + str(data_len[tick]),\n",
    "    horizontalalignment='center',\n",
    "    size='small',\n",
    "    color='w',\n",
    "    weight='semibold')\n",
    "\n",
    "    plt.text(data_pos[tick], \n",
    "    2.4,\n",
    "    \"median = \" + str(round(medians[tick],2)),\n",
    "    horizontalalignment='center',\n",
    "    size='small',\n",
    "    color='b')\n",
    "\n",
    "plt.ylabel('Average view count of user(s)', fontsize=12)\n",
    "plt.title('Average view count by user (type of message and #)', fontsize = 14)"
   ]
  },
  {
   "cell_type": "markdown",
   "metadata": {},
   "source": [
    "もう少し精密に回数でも分けてみると、メッセージAを1回受け取ったユーザーがメッセージBを1回受け取ったユーザに比べてログイン回数が高いことが見られ、メッセージAを2回受け取ったユーザーはメッセージBを2回受け取った人に比べて高い。上述のように、一般的に”A\"は”B”よりログイン回数が高い。"
   ]
  },
  {
   "cell_type": "code",
   "execution_count": 22,
   "metadata": {},
   "outputs": [
    {
     "data": {
      "image/png": "[encoded data removed]",
      "text/plain": [
       "<Figure size 720x432 with 1 Axes>"
      ]
     },
     "metadata": {
      "needs_background": "light"
     },
     "output_type": "display_data"
    }
   ],
   "source": [
    "Q1 = usr_exp_m[usr_exp_m['type']=='0/None/before']['mean'].quantile(0.25)\n",
    "Q3 = usr_exp_m[usr_exp_m['type']=='0/None/before']['mean'].quantile(0.75)\n",
    "IQR = Q3 - Q1\n",
    "\n",
    "outs = (usr_exp_m[usr_exp_m['type']=='0/None/before']['mean'] >= Q1 - 1.5 * IQR) & \\\n",
    "    (usr_exp_m[usr_exp_m['type']=='0/None/before']['mean'] <= Q3 + 1.5 *IQR)\n",
    "\n",
    "# prepare data\n",
    "data_to_plot = [usr_exp_m[usr_exp_m['type']=='0/None/before'].loc[outs]['mean'], \\\n",
    "    usr_exp_m[usr_exp_m['type']=='0/None/after']['mean'],\\\n",
    "        usr_exp_m[usr_exp_m['type']=='1/A/after']['mean'],\\\n",
    "            usr_exp_m[usr_exp_m['type']=='1/B/after']['mean'],\\\n",
    "                usr_exp_m[usr_exp_m['type']=='2/A/after']['mean'],\\\n",
    "                    usr_exp_m[usr_exp_m['type']=='2/B/after']['mean']]\n",
    "\n",
    "plt.figure(figsize=(10, 6))\n",
    "box = plt.boxplot(data_to_plot,\n",
    "                  positions=[1, 1.6, 2.6, 3.2, 4.2, 4.8],\n",
    "                  labels=['None/before','None/after',\\\n",
    "                    '1/A',\\\n",
    "                        '1/B',\\\n",
    "                            '2/A', \\\n",
    "                                '2/B'],\n",
    "                                patch_artist=True)\n",
    "\n",
    "data_len = []\n",
    "medians = []\n",
    "for i in data_to_plot:\n",
    "     data_len.append(len(i))\n",
    "     medians.append(np.median(i))\n",
    "\n",
    "for tick, i in enumerate(data_pos):\n",
    "    plt.text(data_pos[tick], \n",
    "    medians[tick] + 0.03,\n",
    "    \"n = \" + str(data_len[tick]),\n",
    "    horizontalalignment='center',\n",
    "    size='small',\n",
    "    color='w',\n",
    "    weight='semibold')\n",
    "\n",
    "    plt.text(data_pos[tick], \n",
    "    2.4,\n",
    "    \"median = \" + str(round(medians[tick],2)),\n",
    "    horizontalalignment='center',\n",
    "    size='small',\n",
    "    color='b')\n",
    "\n",
    "plt.ylabel('Average view count of user(s)', fontsize=12)\n",
    "plt.title('Average view count by user (type of message and #) *', fontsize = 14)\n",
    "\n",
    "plt.show()"
   ]
  },
  {
   "cell_type": "markdown",
   "metadata": {},
   "source": [
    "施策の前の外れた値（３４件）を除外するみたが、大きな差はない。"
   ]
  },
  {
   "cell_type": "markdown",
   "metadata": {},
   "source": [
    "まとめると、EDAで見られた現象はログイン回数は毎日継続的に同一であり、時間帯別にも同じである。 上記のように、2週目からは新たな施策が実施され、ログイン回数が上がったと思う。施策前のログイン回数が高い理由は、ログイン回数が低いユーザー、回数の高いユーザーをすべて含んでいるためと予想される。\n",
    "外れ値も見られたが、除外せずに進める。 外れ値を処理することが最適であるが、ユーザのその他の情報がないため、処理を行わない。また、外れた値の数が比較的多くないので分析から除外しない。"
   ]
  },
  {
   "cell_type": "markdown",
   "metadata": {},
   "source": [
    "新たな施策がログイン回収の影響があったか確認するためには、仮設検定を行う。 仮設検定も複数の検定方法があるので、適切な検定方法を定めることも重要である。 まず、データが正規分布であるかShapiro-WilksTestで確認する。 後、正規分布であればT-testで進行し、そうでない場合はMann-WhitneyTestで進行する。下記のab_t関数に代入する場合、結果を示す。"
   ]
  },
  {
   "cell_type": "code",
   "execution_count": 23,
   "metadata": {},
   "outputs": [
    {
     "name": "stderr",
     "output_type": "stream",
     "text": [
      "/Users/jaichung/Documents/10_Work/line2/.venv/lib/python3.9/site-packages/scipy/stats/_morestats.py:1761: UserWarning: p-value may not be accurate for N > 5000.\n",
      "  warnings.warn(\"p-value may not be accurate for N > 5000.\")\n"
     ]
    },
    {
     "data": {
      "text/html": [
       "<div>\n",
       "<style scoped>\n",
       "    .dataframe tbody tr th:only-of-type {\n",
       "        vertical-align: middle;\n",
       "    }\n",
       "\n",
       "    .dataframe tbody tr th {\n",
       "        vertical-align: top;\n",
       "    }\n",
       "\n",
       "    .dataframe thead th {\n",
       "        text-align: right;\n",
       "    }\n",
       "</style>\n",
       "<table border=\"1\" class=\"dataframe\">\n",
       "  <thead>\n",
       "    <tr style=\"text-align: right;\">\n",
       "      <th></th>\n",
       "      <th>Scenario</th>\n",
       "      <th>n</th>\n",
       "      <th>p-value</th>\n",
       "      <th>Normality?</th>\n",
       "    </tr>\n",
       "  </thead>\n",
       "  <tbody>\n",
       "    <tr>\n",
       "      <th>0</th>\n",
       "      <td>0/None/before</td>\n",
       "      <td>11595</td>\n",
       "      <td>2.133356e-37</td>\n",
       "      <td>Not of normal distribution</td>\n",
       "    </tr>\n",
       "    <tr>\n",
       "      <th>0</th>\n",
       "      <td>2/B/after</td>\n",
       "      <td>2319</td>\n",
       "      <td>3.723250e-42</td>\n",
       "      <td>Not of normal distribution</td>\n",
       "    </tr>\n",
       "    <tr>\n",
       "      <th>0</th>\n",
       "      <td>2/A/after</td>\n",
       "      <td>2319</td>\n",
       "      <td>0.000000e+00</td>\n",
       "      <td>Not of normal distribution</td>\n",
       "    </tr>\n",
       "    <tr>\n",
       "      <th>0</th>\n",
       "      <td>0/None/after</td>\n",
       "      <td>2319</td>\n",
       "      <td>2.153095e-41</td>\n",
       "      <td>Not of normal distribution</td>\n",
       "    </tr>\n",
       "    <tr>\n",
       "      <th>0</th>\n",
       "      <td>1/B/after</td>\n",
       "      <td>2319</td>\n",
       "      <td>0.000000e+00</td>\n",
       "      <td>Not of normal distribution</td>\n",
       "    </tr>\n",
       "    <tr>\n",
       "      <th>0</th>\n",
       "      <td>1/A/after</td>\n",
       "      <td>2319</td>\n",
       "      <td>0.000000e+00</td>\n",
       "      <td>Not of normal distribution</td>\n",
       "    </tr>\n",
       "  </tbody>\n",
       "</table>\n",
       "</div>"
      ],
      "text/plain": [
       "        Scenario      n       p-value                  Normality?\n",
       "0  0/None/before  11595  2.133356e-37  Not of normal distribution\n",
       "0      2/B/after   2319  3.723250e-42  Not of normal distribution\n",
       "0      2/A/after   2319  0.000000e+00  Not of normal distribution\n",
       "0   0/None/after   2319  2.153095e-41  Not of normal distribution\n",
       "0      1/B/after   2319  0.000000e+00  Not of normal distribution\n",
       "0      1/A/after   2319  0.000000e+00  Not of normal distribution"
      ]
     },
     "execution_count": 23,
     "metadata": {},
     "output_type": "execute_result"
    }
   ],
   "source": [
    "shapiro_df(usr_exp_m, 'type')"
   ]
  },
  {
   "cell_type": "markdown",
   "metadata": {},
   "source": [
    "すべての場合のデータをShapiroテストで標準分布検査をしてみたが、P-Valueが0.05以下なので仮説を棄却する。だが、施策前の場合はデータが多いので慎重に進める。\n",
    "\n",
    "標準分布データがないため、Mann Whitneyテストに進む。"
   ]
  },
  {
   "cell_type": "code",
   "execution_count": 24,
   "metadata": {},
   "outputs": [
    {
     "data": {
      "text/html": [
       "<div>\n",
       "<style scoped>\n",
       "    .dataframe tbody tr th:only-of-type {\n",
       "        vertical-align: middle;\n",
       "    }\n",
       "\n",
       "    .dataframe tbody tr th {\n",
       "        vertical-align: top;\n",
       "    }\n",
       "\n",
       "    .dataframe thead th {\n",
       "        text-align: right;\n",
       "    }\n",
       "</style>\n",
       "<table border=\"1\" class=\"dataframe\">\n",
       "  <thead>\n",
       "    <tr style=\"text-align: right;\">\n",
       "      <th></th>\n",
       "      <th>0/None/before</th>\n",
       "      <th>1/A/after</th>\n",
       "      <th>1/B/after</th>\n",
       "      <th>2/B/after</th>\n",
       "      <th>2/A/after</th>\n",
       "    </tr>\n",
       "  </thead>\n",
       "  <tbody>\n",
       "    <tr>\n",
       "      <th>0/None/before</th>\n",
       "      <td>1.000000e+00</td>\n",
       "      <td>0.000000e+00</td>\n",
       "      <td>5.926100e-226</td>\n",
       "      <td>1.428814e-220</td>\n",
       "      <td>2.132098e-75</td>\n",
       "    </tr>\n",
       "    <tr>\n",
       "      <th>1/A/after</th>\n",
       "      <td>0.000000e+00</td>\n",
       "      <td>1.000000e+00</td>\n",
       "      <td>2.509230e-263</td>\n",
       "      <td>4.405943e-133</td>\n",
       "      <td>0.000000e+00</td>\n",
       "    </tr>\n",
       "    <tr>\n",
       "      <th>1/B/after</th>\n",
       "      <td>5.926100e-226</td>\n",
       "      <td>2.509230e-263</td>\n",
       "      <td>1.000000e+00</td>\n",
       "      <td>1.594150e-08</td>\n",
       "      <td>7.611181e-104</td>\n",
       "    </tr>\n",
       "    <tr>\n",
       "      <th>2/B/after</th>\n",
       "      <td>1.428814e-220</td>\n",
       "      <td>4.405943e-133</td>\n",
       "      <td>1.594150e-08</td>\n",
       "      <td>1.000000e+00</td>\n",
       "      <td>3.267455e-59</td>\n",
       "    </tr>\n",
       "    <tr>\n",
       "      <th>2/A/after</th>\n",
       "      <td>2.132098e-75</td>\n",
       "      <td>0.000000e+00</td>\n",
       "      <td>7.611181e-104</td>\n",
       "      <td>3.267455e-59</td>\n",
       "      <td>1.000000e+00</td>\n",
       "    </tr>\n",
       "  </tbody>\n",
       "</table>\n",
       "</div>"
      ],
      "text/plain": [
       "               0/None/before      1/A/after      1/B/after      2/B/after  \\\n",
       "0/None/before   1.000000e+00   0.000000e+00  5.926100e-226  1.428814e-220   \n",
       "1/A/after       0.000000e+00   1.000000e+00  2.509230e-263  4.405943e-133   \n",
       "1/B/after      5.926100e-226  2.509230e-263   1.000000e+00   1.594150e-08   \n",
       "2/B/after      1.428814e-220  4.405943e-133   1.594150e-08   1.000000e+00   \n",
       "2/A/after       2.132098e-75   0.000000e+00  7.611181e-104   3.267455e-59   \n",
       "\n",
       "                   2/A/after  \n",
       "0/None/before   2.132098e-75  \n",
       "1/A/after       0.000000e+00  \n",
       "1/B/after      7.611181e-104  \n",
       "2/B/after       3.267455e-59  \n",
       "2/A/after       1.000000e+00  "
      ]
     },
     "execution_count": 24,
     "metadata": {},
     "output_type": "execute_result"
    }
   ],
   "source": [
    "#Mann Whitney - pairwise\n",
    "data_mw = [usr_exp_m[usr_exp_m['type']=='0/None/before'].loc[outs]['mean'], \\\n",
    "    usr_exp_m[usr_exp_m['type']=='1/A/after']['mean'],\\\n",
    "        usr_exp_m[usr_exp_m['type']=='1/B/after']['mean'],\\\n",
    "            usr_exp_m[usr_exp_m['type']=='2/B/after']['mean'],\\\n",
    "                usr_exp_m[usr_exp_m['type']=='2/A/after']['mean']]\n",
    "                \n",
    "mw_res = sp.posthoc_mannwhitney(data_mw)\n",
    "mw_res = mw_res.set_axis(['0/None/before', '1/A/after', '1/B/after', \\\n",
    "    '2/B/after', '2/A/after'], axis=1, inplace=False)\n",
    "mw_res = mw_res.set_axis(['0/None/before', '1/A/after', '1/B/after', \\\n",
    "    '2/B/after', '2/A/after'], axis=0, inplace=False)\n",
    "mw_res"
   ]
  },
  {
   "cell_type": "markdown",
   "metadata": {},
   "source": [
    "Mann Whitneyテストを施策前にデータと対に分析する。その結果、すべての対のP-valueが0.05以下なので、施策前のデータと似ていないことがわかる。\n",
    "\n",
    "だが、上記の分析の問題は施策前のデータが実験群データ（After）に比べてデータの数が多く、多様なためよくにログインするユーザ、よくにログインしないユーザの情報が全て集まっている。\n",
    "\n",
    "解決策としてSampling（サンプリング）があるが、この課題には切り替え率（例えば、どの程度のユーザーがB画面を通じて決済をしたのか？）データを得るのが難しく、Samplingが容易ではない。\n",
    "\n",
    "Samplingが難しいので、場合別に一部のユーザーだけに制限して施策前と施策後を分析をしてみる。"
   ]
  },
  {
   "cell_type": "code",
   "execution_count": 25,
   "metadata": {},
   "outputs": [
    {
     "data": {
      "image/png": "[encoded data removed]",
      "text/plain": [
       "<Figure size 1152x576 with 1 Axes>"
      ]
     },
     "metadata": {
      "needs_background": "light"
     },
     "output_type": "display_data"
    }
   ],
   "source": [
    "# prepare data\n",
    "data_to_plot = [df_id(usr_exp_m, '0/None/after')['mean'], \\\n",
    "    usr_exp_m[usr_exp_m['type']=='0/None/after']['mean'],\\\n",
    "        df_id(usr_exp_m, '1/A/after')['mean'],\\\n",
    "        usr_exp_m[usr_exp_m['type']=='1/A/after']['mean'],\\\n",
    "            df_id(usr_exp_m, '1/B/after')['mean'],\\\n",
    "            usr_exp_m[usr_exp_m['type']=='1/B/after']['mean'],\\\n",
    "                df_id(usr_exp_m, '2/A/after')['mean'],\\\n",
    "                usr_exp_m[usr_exp_m['type']=='2/A/after']['mean'],\\\n",
    "                    df_id(usr_exp_m, '2/B/after')['mean'],\\\n",
    "                    usr_exp_m[usr_exp_m['type']=='2/B/after']['mean']]\n",
    "\n",
    "data_pos = [1, 1.8, 3.0, 3.8, 5.0, 5.8, 7.0, 7.8, 9.0, 9.8]\n",
    "plt.figure(figsize=(16, 8))\n",
    "box = plt.boxplot(data_to_plot,\n",
    "                  positions=data_pos,\n",
    "                  labels=['None/before\\n(from None/after)',\\\n",
    "                    'None/after',\\\n",
    "                    'None/before\\n(from 1/A)',\\\n",
    "                        '1/A',\\\n",
    "                            'None/before\\n(from 1/B)',\\\n",
    "                        '1/B',\\\n",
    "                            'None/before\\n(from 2/A)',\\\n",
    "                            '2/A', \\\n",
    "                                'None/before\\n(from 2/B)',\\\n",
    "                                '2/B'],\n",
    "                                patch_artist=True)\n",
    "\n",
    "data_len = []\n",
    "medians = []\n",
    "for i in data_to_plot:\n",
    "     data_len.append(len(i))\n",
    "     medians.append(np.median(i))\n",
    "\n",
    "for tick, i in enumerate(data_pos):\n",
    "    plt.text(data_pos[tick], \n",
    "    medians[tick] + 0.03,\n",
    "    str(data_len[tick]),\n",
    "    horizontalalignment='center',\n",
    "    size='small',\n",
    "    color='w',\n",
    "    weight='semibold')\n",
    "\n",
    "    plt.text(data_pos[tick], \n",
    "    2.4,\n",
    "    \"med = \" + str(round(medians[tick],2)),\n",
    "    horizontalalignment='center',\n",
    "    size='small',\n",
    "    color='b')\n",
    "\n",
    "plt.ylabel('Average view count of user(s)', fontsize=12)\n",
    "plt.title('Average view count by user (type of message and #) / Comparison of same user ids by type', fontsize = 14)\n",
    "\n",
    "plt.show()"
   ]
  },
  {
   "cell_type": "markdown",
   "metadata": {},
   "source": [
    "Samplingの代わりにプッシュメッセージを受け取るように指定されたユーザーの施策前後を直接比較してみる。例えば、None/before（from1/A）のデータのユーザは1/A（施策後）のユーザと同一であるが、施策前のデータである。グラフを見ると、施策前のデータが分散する前にログイン回数の少ないユーザー、多くのユーザーが集まっていたことがわかる。\n",
    "前後に一番大きな差を見せたグループは2回プッシュを受けたユーザーたちだ。他のグループはログイン回数が比較的大きく増加しなかった。\n",
    "\n",
    "分散したデータで分析を再度進める。"
   ]
  },
  {
   "cell_type": "code",
   "execution_count": 26,
   "metadata": {},
   "outputs": [
    {
     "data": {
      "text/html": [
       "<div>\n",
       "<style scoped>\n",
       "    .dataframe tbody tr th:only-of-type {\n",
       "        vertical-align: middle;\n",
       "    }\n",
       "\n",
       "    .dataframe tbody tr th {\n",
       "        vertical-align: top;\n",
       "    }\n",
       "\n",
       "    .dataframe thead th {\n",
       "        text-align: right;\n",
       "    }\n",
       "</style>\n",
       "<table border=\"1\" class=\"dataframe\">\n",
       "  <thead>\n",
       "    <tr style=\"text-align: right;\">\n",
       "      <th></th>\n",
       "      <th>Scenario</th>\n",
       "      <th>n</th>\n",
       "      <th>p-value</th>\n",
       "      <th>Normality?</th>\n",
       "    </tr>\n",
       "  </thead>\n",
       "  <tbody>\n",
       "    <tr>\n",
       "      <th>0</th>\n",
       "      <td>None/before (from 2/B)</td>\n",
       "      <td>2319</td>\n",
       "      <td>3.364041e-40</td>\n",
       "      <td>Not of normal distribution</td>\n",
       "    </tr>\n",
       "    <tr>\n",
       "      <th>0</th>\n",
       "      <td>2/B/after</td>\n",
       "      <td>2319</td>\n",
       "      <td>3.723250e-42</td>\n",
       "      <td>Not of normal distribution</td>\n",
       "    </tr>\n",
       "    <tr>\n",
       "      <th>0</th>\n",
       "      <td>None/before (from 2/A)</td>\n",
       "      <td>2319</td>\n",
       "      <td>3.951662e-43</td>\n",
       "      <td>Not of normal distribution</td>\n",
       "    </tr>\n",
       "    <tr>\n",
       "      <th>0</th>\n",
       "      <td>2/A/after</td>\n",
       "      <td>2319</td>\n",
       "      <td>0.000000e+00</td>\n",
       "      <td>Not of normal distribution</td>\n",
       "    </tr>\n",
       "    <tr>\n",
       "      <th>0</th>\n",
       "      <td>0/None/after</td>\n",
       "      <td>2319</td>\n",
       "      <td>2.153095e-41</td>\n",
       "      <td>Not of normal distribution</td>\n",
       "    </tr>\n",
       "    <tr>\n",
       "      <th>0</th>\n",
       "      <td>None/before (from 0/None)</td>\n",
       "      <td>2319</td>\n",
       "      <td>5.219250e-39</td>\n",
       "      <td>Not of normal distribution</td>\n",
       "    </tr>\n",
       "    <tr>\n",
       "      <th>0</th>\n",
       "      <td>None/before (from 1/B)</td>\n",
       "      <td>2319</td>\n",
       "      <td>0.000000e+00</td>\n",
       "      <td>Not of normal distribution</td>\n",
       "    </tr>\n",
       "    <tr>\n",
       "      <th>0</th>\n",
       "      <td>1/B/after</td>\n",
       "      <td>2319</td>\n",
       "      <td>0.000000e+00</td>\n",
       "      <td>Not of normal distribution</td>\n",
       "    </tr>\n",
       "    <tr>\n",
       "      <th>0</th>\n",
       "      <td>None/before (from 1/A)</td>\n",
       "      <td>2319</td>\n",
       "      <td>0.000000e+00</td>\n",
       "      <td>Not of normal distribution</td>\n",
       "    </tr>\n",
       "    <tr>\n",
       "      <th>0</th>\n",
       "      <td>1/A/after</td>\n",
       "      <td>2319</td>\n",
       "      <td>0.000000e+00</td>\n",
       "      <td>Not of normal distribution</td>\n",
       "    </tr>\n",
       "  </tbody>\n",
       "</table>\n",
       "</div>"
      ],
      "text/plain": [
       "                    Scenario     n       p-value                  Normality?\n",
       "0     None/before (from 2/B)  2319  3.364041e-40  Not of normal distribution\n",
       "0                  2/B/after  2319  3.723250e-42  Not of normal distribution\n",
       "0     None/before (from 2/A)  2319  3.951662e-43  Not of normal distribution\n",
       "0                  2/A/after  2319  0.000000e+00  Not of normal distribution\n",
       "0               0/None/after  2319  2.153095e-41  Not of normal distribution\n",
       "0  None/before (from 0/None)  2319  5.219250e-39  Not of normal distribution\n",
       "0     None/before (from 1/B)  2319  0.000000e+00  Not of normal distribution\n",
       "0                  1/B/after  2319  0.000000e+00  Not of normal distribution\n",
       "0     None/before (from 1/A)  2319  0.000000e+00  Not of normal distribution\n",
       "0                  1/A/after  2319  0.000000e+00  Not of normal distribution"
      ]
     },
     "execution_count": 26,
     "metadata": {},
     "output_type": "execute_result"
    }
   ],
   "source": [
    "usr_exp_m_mod = usr_exp_m\n",
    "for i in ['0/None/after', '1/A/after', '1/B/after', '2/A/after', '2/B/after']:\n",
    "    i_str = 'None/before (from ' + i.rsplit('/', 1)[0] + ')'\n",
    "    usr_exp_m_mod = usr_exp_m_mod.assign(type = np.where(usr_exp_m_mod['type'].eq('0/None/before') &\n",
    "        usr_exp_m_mod['user_id'].isin(usr_exp_m_mod[usr_exp_m_mod['type']==i]['user_id']),\n",
    "            i_str, usr_exp_m_mod['type']))\n",
    "\n",
    "shapiro_df(usr_exp_m_mod, 'type')"
   ]
  },
  {
   "cell_type": "markdown",
   "metadata": {},
   "source": [
    "今度もすべての場合のデータをShapiroテストで標準分布検査をしてみたが、P-Valueが0.05以下なので仮説を棄却する。Mann Whitneyテストに進む。"
   ]
  },
  {
   "cell_type": "code",
   "execution_count": 27,
   "metadata": {},
   "outputs": [
    {
     "data": {
      "text/html": [
       "<div>\n",
       "<style scoped>\n",
       "    .dataframe tbody tr th:only-of-type {\n",
       "        vertical-align: middle;\n",
       "    }\n",
       "\n",
       "    .dataframe tbody tr th {\n",
       "        vertical-align: top;\n",
       "    }\n",
       "\n",
       "    .dataframe thead th {\n",
       "        text-align: right;\n",
       "    }\n",
       "</style>\n",
       "<table border=\"1\" class=\"dataframe\">\n",
       "  <thead>\n",
       "    <tr style=\"text-align: right;\">\n",
       "      <th></th>\n",
       "      <th>Scenario</th>\n",
       "      <th>Test Type</th>\n",
       "      <th>AB Hypothesis</th>\n",
       "      <th>p-value</th>\n",
       "      <th>Comment</th>\n",
       "    </tr>\n",
       "  </thead>\n",
       "  <tbody>\n",
       "    <tr>\n",
       "      <th>0</th>\n",
       "      <td>None/before (from 0/None) vs. 0/None/after</td>\n",
       "      <td>Non-Parametric</td>\n",
       "      <td>Reject H0</td>\n",
       "      <td>2.539908e-17</td>\n",
       "      <td>A/B groups are not similar</td>\n",
       "    </tr>\n",
       "    <tr>\n",
       "      <th>0</th>\n",
       "      <td>None/before (from 1/A) vs. 1/A/after</td>\n",
       "      <td>Non-Parametric</td>\n",
       "      <td>Reject H0</td>\n",
       "      <td>3.905795e-125</td>\n",
       "      <td>A/B groups are not similar</td>\n",
       "    </tr>\n",
       "    <tr>\n",
       "      <th>0</th>\n",
       "      <td>None/before (from 1/B) vs. 1/B/after</td>\n",
       "      <td>Non-Parametric</td>\n",
       "      <td>Reject H0</td>\n",
       "      <td>1.420771e-127</td>\n",
       "      <td>A/B groups are not similar</td>\n",
       "    </tr>\n",
       "    <tr>\n",
       "      <th>0</th>\n",
       "      <td>None/before (from 2/A) vs. 2/A/after</td>\n",
       "      <td>Non-Parametric</td>\n",
       "      <td>Reject H0</td>\n",
       "      <td>8.156396e-246</td>\n",
       "      <td>A/B groups are not similar</td>\n",
       "    </tr>\n",
       "    <tr>\n",
       "      <th>0</th>\n",
       "      <td>None/before (from 2/B) vs. 2/B/after</td>\n",
       "      <td>Non-Parametric</td>\n",
       "      <td>Reject H0</td>\n",
       "      <td>7.959924e-116</td>\n",
       "      <td>A/B groups are not similar</td>\n",
       "    </tr>\n",
       "  </tbody>\n",
       "</table>\n",
       "</div>"
      ],
      "text/plain": [
       "                                     Scenario       Test Type AB Hypothesis  \\\n",
       "0  None/before (from 0/None) vs. 0/None/after  Non-Parametric     Reject H0   \n",
       "0        None/before (from 1/A) vs. 1/A/after  Non-Parametric     Reject H0   \n",
       "0        None/before (from 1/B) vs. 1/B/after  Non-Parametric     Reject H0   \n",
       "0        None/before (from 2/A) vs. 2/A/after  Non-Parametric     Reject H0   \n",
       "0        None/before (from 2/B) vs. 2/B/after  Non-Parametric     Reject H0   \n",
       "\n",
       "         p-value                     Comment  \n",
       "0   2.539908e-17  A/B groups are not similar  \n",
       "0  3.905795e-125  A/B groups are not similar  \n",
       "0  1.420771e-127  A/B groups are not similar  \n",
       "0  8.156396e-246  A/B groups are not similar  \n",
       "0  7.959924e-116  A/B groups are not similar  "
      ]
     },
     "execution_count": 27,
     "metadata": {},
     "output_type": "execute_result"
    }
   ],
   "source": [
    "# create hypothesis test table\n",
    "types = [[\"None/before (from 0/None)\", \"0/None/after\"], [\"None/before (from 1/A)\", \"1/A/after\"],\\\n",
    "        [\"None/before (from 1/B)\",\"1/B/after\"], [\"None/before (from 2/A)\",\"2/A/after\"],\\\n",
    "                [\"None/before (from 2/B)\",\"2/B/after\"]]\n",
    "ab_t_h = pd.DataFrame([])\n",
    "for i in types:\n",
    "        temp = ab_t(usr_exp_m_mod, i[0], i[1])\n",
    "        ab_t_h = pd.concat((ab_t_h, temp), axis = 0)\n",
    "ab_t_h"
   ]
  },
  {
   "cell_type": "markdown",
   "metadata": {},
   "source": [
    "データ分散後の分析でもMan Whitneyテストでは、すべての場合のペアが似ていないと見ることができる。"
   ]
  },
  {
   "cell_type": "code",
   "execution_count": 28,
   "metadata": {},
   "outputs": [
    {
     "data": {
      "text/html": [
       "<div>\n",
       "<style scoped>\n",
       "    .dataframe tbody tr th:only-of-type {\n",
       "        vertical-align: middle;\n",
       "    }\n",
       "\n",
       "    .dataframe tbody tr th {\n",
       "        vertical-align: top;\n",
       "    }\n",
       "\n",
       "    .dataframe thead th {\n",
       "        text-align: right;\n",
       "    }\n",
       "</style>\n",
       "<table border=\"1\" class=\"dataframe\">\n",
       "  <thead>\n",
       "    <tr style=\"text-align: right;\">\n",
       "      <th></th>\n",
       "      <th>type</th>\n",
       "      <th>push_cnt</th>\n",
       "      <th>mean</th>\n",
       "      <th>type</th>\n",
       "      <th>push_cnt</th>\n",
       "      <th>mean</th>\n",
       "      <th>d(mean)</th>\n",
       "    </tr>\n",
       "  </thead>\n",
       "  <tbody>\n",
       "    <tr>\n",
       "      <th>0</th>\n",
       "      <td>None/before (from 0/None)</td>\n",
       "      <td>0.0</td>\n",
       "      <td>3.113982</td>\n",
       "      <td>0/None/after</td>\n",
       "      <td>0.0</td>\n",
       "      <td>3.235207</td>\n",
       "      <td>0.121225</td>\n",
       "    </tr>\n",
       "    <tr>\n",
       "      <th>1</th>\n",
       "      <td>None/before (from 1/A)</td>\n",
       "      <td>0.0</td>\n",
       "      <td>4.302333</td>\n",
       "      <td>1/A/after</td>\n",
       "      <td>1.0</td>\n",
       "      <td>4.468829</td>\n",
       "      <td>0.166496</td>\n",
       "    </tr>\n",
       "    <tr>\n",
       "      <th>2</th>\n",
       "      <td>None/before (from 1/B)</td>\n",
       "      <td>0.0</td>\n",
       "      <td>3.970118</td>\n",
       "      <td>1/B/after</td>\n",
       "      <td>1.0</td>\n",
       "      <td>4.138958</td>\n",
       "      <td>0.168839</td>\n",
       "    </tr>\n",
       "    <tr>\n",
       "      <th>3</th>\n",
       "      <td>None/before (from 2/A)</td>\n",
       "      <td>0.0</td>\n",
       "      <td>3.588036</td>\n",
       "      <td>2/A/after</td>\n",
       "      <td>2.0</td>\n",
       "      <td>4.026844</td>\n",
       "      <td>0.438809</td>\n",
       "    </tr>\n",
       "    <tr>\n",
       "      <th>4</th>\n",
       "      <td>None/before (from 2/B)</td>\n",
       "      <td>0.0</td>\n",
       "      <td>3.827818</td>\n",
       "      <td>2/B/after</td>\n",
       "      <td>2.0</td>\n",
       "      <td>4.199963</td>\n",
       "      <td>0.372145</td>\n",
       "    </tr>\n",
       "  </tbody>\n",
       "</table>\n",
       "</div>"
      ],
      "text/plain": [
       "                        type  push_cnt      mean          type  push_cnt  \\\n",
       "0  None/before (from 0/None)       0.0  3.113982  0/None/after       0.0   \n",
       "1     None/before (from 1/A)       0.0  4.302333     1/A/after       1.0   \n",
       "2     None/before (from 1/B)       0.0  3.970118     1/B/after       1.0   \n",
       "3     None/before (from 2/A)       0.0  3.588036     2/A/after       2.0   \n",
       "4     None/before (from 2/B)       0.0  3.827818     2/B/after       2.0   \n",
       "\n",
       "       mean   d(mean)  \n",
       "0  3.235207  0.121225  \n",
       "1  4.468829  0.166496  \n",
       "2  4.138958  0.168839  \n",
       "3  4.026844  0.438809  \n",
       "4  4.199963  0.372145  "
      ]
     },
     "execution_count": 28,
     "metadata": {},
     "output_type": "execute_result"
    }
   ],
   "source": [
    "# difference in mean between before/after\n",
    "usr_exp_m_mod_st = pd.concat([usr_exp_m_mod.groupby(['type']).mean()[5::].reset_index(), \\\n",
    "    usr_exp_m_mod.groupby(['type']).mean()[0:5].reset_index()], axis = 1)\n",
    "usr_exp_m_mod_st = pd.concat([usr_exp_m_mod_st, usr_exp_m_mod_st.iloc[:,5] - \\\n",
    "    usr_exp_m_mod_st.iloc[:,2]], axis = 1)\n",
    "usr_exp_m_mod_st.columns.values[6] = 'd(mean)'\n",
    "usr_exp_m_mod_st"
   ]
  },
  {
   "cell_type": "markdown",
   "metadata": {},
   "source": [
    "最初に、データの構造および状態を調べる。分析の簡素化のために抜けているデータの前処理方法では除去する。 抜けたデータは5%程度になった。 抜けているデータの前処理方法は除去するか、それとも代入法もあるが、この課題では代入法を実施するには情報および根拠が足りないため除去した。グラフはまた、データをさらに理解できるように(2週目の時にどのように変わるのか)手伝ってくれる。\n",
    "\n",
    "テストを行った結果、ShapiroテストはH0（帰無仮説）を棄却する。この意味は、データが正規分布（Normal distribution）ではないことを意味する。したがって、Non-parametric TestであるMann Whitney Testで進行する。Mann Whitney Testでもすべての状況でH0を棄却できると出ている。この意味と結果は、1週目とのデータと第2週目とのデータは似ていないことがわかるし、2週目から（6/10~6/16）の新た施策は効果があることを意味する。\n",
    "\n",
    "施策前のデータが多すぎて（１１５６１件）Samplingが望ましいと思ったが、切替率データや他の情報がなくて難しかった。そうして、Samplingの代わりにプッシュメッセージを(1回や2回)受ける指定されたユーザーの前後データに分散して分析を再びしてみた。だが、これもやはりH0を棄却しなければならないという結果がでた。\n",
    "\n",
    "結論は、ログイン回数が一番多く上がったグループは2回のメッセージを受け取ったユーザーだ。その中でもAを2回受け取ったユーザーが平均的にログイン回数がさらに増加した。テストの結果によって、他の場合にも差があることが見られた。新しい施策を施行する方向に進むのが正しいが、後述する点を理解し分析を再度行うのがより正確だと思う。\n",
    "\n",
    "課題の過程で発見した点があった。最初に、外れ値を処理するの他の情報なかった。すべてのデータから５％のみを占めているので除外する方法を選択肢しましたが、十分な情報がある場合に（例：他のColumnのデータ）代入法の方法もある。また、プッシュメッセージを受け取るユーザを指定される手続きでBiasが生じたと考える。プッシュメッセージを受け取るように指定されたユーザーの施策前後を直接比較したときのグラフを描いてみた（グラフの題目：Average view count by user (type of message and #) / Comparison of same user ids by type）。一般的にSampling（あるいはユーザ指定）がうまくいった場合、すべての場合に分布と中間値が似ていると予想する。だが、対照群のユーザ、プッシュメッセージAを１回受け取ったユーザの施策前、プッシュメッセージAを２回受け取ったユーザの施策前、プッシュメッセージBを１回受け取ったユーザ、プッシュメッセージBを２回受け取ったユーザの施策前の分布と中間値が互いに似ていない（例：プッシュメッセージAを１回受け取ったユーザの分布が対照群と異なり、中間値は対照群より比較的にとても高い）。"
   ]
  }
 ],
 "metadata": {
  "kernelspec": {
   "display_name": "Python 3",
   "language": "python",
   "name": "python3"
  },
  "language_info": {
   "codemirror_mode": {
    "name": "ipython",
    "version": 3
   },
   "file_extension": ".py",
   "mimetype": "text/x-python",
   "name": "python",
   "nbconvert_exporter": "python",
   "pygments_lexer": "ipython3",
   "version": "3.9.5"
  },
  "vscode": {
   "interpreter": {
    "hash": "a0abe9316a1d7718e1480cc542f7dbc4a6ea5ab5c38ab94501752cce582cdd3e"
   }
  }
 },
 "nbformat": 4,
 "nbformat_minor": 2
}
